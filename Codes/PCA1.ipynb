{
 "cells": [
  {
   "cell_type": "code",
   "execution_count": 310,
   "metadata": {},
   "outputs": [],
   "source": [
    "import numpy as np\n",
    "import matplotlib.pyplot as plt\n"
   ]
  },
  {
   "cell_type": "code",
   "execution_count": 311,
   "metadata": {},
   "outputs": [],
   "source": [
    "x = np.random.randn(20,2)"
   ]
  },
  {
   "cell_type": "code",
   "execution_count": 312,
   "metadata": {},
   "outputs": [
    {
     "data": {
      "text/plain": [
       "array([[ 0.42800123, -0.43455636],\n",
       "       [-0.99727068,  0.3693838 ],\n",
       "       [-0.3070524 , -0.1384903 ],\n",
       "       [-0.89816035, -0.21189011],\n",
       "       [-1.17491865, -1.3104827 ],\n",
       "       [ 0.04608594,  0.53523614],\n",
       "       [-1.38939566,  0.65707506],\n",
       "       [ 0.27874624, -0.42527556],\n",
       "       [ 0.15319361, -0.44421637],\n",
       "       [-0.63197812,  0.13605467],\n",
       "       [ 1.24170657,  1.41338188],\n",
       "       [-0.44555156, -0.5481886 ],\n",
       "       [ 1.87063202,  0.30673892],\n",
       "       [ 0.83501987, -0.07047393],\n",
       "       [ 2.13829999,  0.25835044],\n",
       "       [-0.29244037,  0.35674257],\n",
       "       [ 1.0899236 ,  0.24422243],\n",
       "       [ 0.15423885,  0.39167262],\n",
       "       [-0.57059711, -0.35753872],\n",
       "       [ 0.35632909, -0.65839049]])"
      ]
     },
     "execution_count": 312,
     "metadata": {},
     "output_type": "execute_result"
    }
   ],
   "source": [
    "x"
   ]
  },
  {
   "cell_type": "code",
   "execution_count": 313,
   "metadata": {},
   "outputs": [
    {
     "data": {
      "text/plain": [
       "<matplotlib.collections.PathCollection at 0x2590998d0f0>"
      ]
     },
     "execution_count": 313,
     "metadata": {},
     "output_type": "execute_result"
    },
    {
     "data": {
      "image/png": "[encoded data removed]",
      "text/plain": [
       "<Figure size 640x480 with 1 Axes>"
      ]
     },
     "metadata": {},
     "output_type": "display_data"
    }
   ],
   "source": [
    "plt.xlim(-2,2)\n",
    "plt.ylim(-2,2)\n",
    "plt.scatter(x[:,0],x[:,1])"
   ]
  },
  {
   "cell_type": "code",
   "execution_count": 314,
   "metadata": {},
   "outputs": [
    {
     "name": "stdout",
     "output_type": "stream",
     "text": [
      "Mean is = 0.048854187478854345\n"
     ]
    }
   ],
   "source": [
    "print(f\"Mean is = {np.mean(x)}\")"
   ]
  },
  {
   "cell_type": "code",
   "execution_count": 315,
   "metadata": {},
   "outputs": [
    {
     "name": "stdout",
     "output_type": "stream",
     "text": [
      "Standard deviation is = 0.784904680296675\n"
     ]
    }
   ],
   "source": [
    "print(f\"Standard deviation is = {np.std(x)}\")"
   ]
  },
  {
   "cell_type": "code",
   "execution_count": 316,
   "metadata": {},
   "outputs": [],
   "source": [
    "uniform = np.random.rand(2,2)"
   ]
  },
  {
   "cell_type": "code",
   "execution_count": 317,
   "metadata": {},
   "outputs": [
    {
     "data": {
      "text/plain": [
       "array([[0.35709364, 0.28351735],\n",
       "       [0.23917548, 0.14210298]])"
      ]
     },
     "execution_count": 317,
     "metadata": {},
     "output_type": "execute_result"
    }
   ],
   "source": [
    "uniform"
   ]
  },
  {
   "cell_type": "code",
   "execution_count": 318,
   "metadata": {},
   "outputs": [],
   "source": [
    "Y = np.matmul(x,uniform)"
   ]
  },
  {
   "cell_type": "code",
   "execution_count": 319,
   "metadata": {},
   "outputs": [
    {
     "data": {
      "text/plain": [
       "(20, 2)"
      ]
     },
     "execution_count": 319,
     "metadata": {},
     "output_type": "execute_result"
    }
   ],
   "source": [
    "Y.shape"
   ]
  },
  {
   "cell_type": "code",
   "execution_count": 320,
   "metadata": {},
   "outputs": [
    {
     "data": {
      "text/plain": [
       "array([[ 0.04890129,  0.05959402],\n",
       "       [-0.26777147, -0.230253  ],\n",
       "       [-0.14276994, -0.10673456],\n",
       "       [-0.37140627, -0.28475425],\n",
       "       [-0.7329913 , -0.51933332],\n",
       "       [ 0.14447235,  0.08912481],\n",
       "       [-0.33898812, -0.30054544],\n",
       "       [-0.00217697,  0.01859647],\n",
       "       [-0.0515412 , -0.01969143],\n",
       "       [-0.19313443, -0.15984298],\n",
       "       [ 0.7814518 ,  0.55289113],\n",
       "       [-0.2902169 , -0.20422083],\n",
       "       [ 0.74135523,  0.57394514],\n",
       "       [ 0.28132465,  0.22672806],\n",
       "       [ 0.82536442,  0.6429575 ],\n",
       "       [-0.01910452, -0.03221773],\n",
       "       [ 0.4476168 ,  0.34371698],\n",
       "       [ 0.1487562 ,  0.09938724],\n",
       "       [-0.28927109, -0.2125815 ],\n",
       "       [-0.03022801,  0.00746623]])"
      ]
     },
     "execution_count": 320,
     "metadata": {},
     "output_type": "execute_result"
    }
   ],
   "source": [
    "Y"
   ]
  },
  {
   "cell_type": "code",
   "execution_count": 321,
   "metadata": {},
   "outputs": [
    {
     "data": {
      "text/plain": [
       "<matplotlib.collections.PathCollection at 0x25909957460>"
      ]
     },
     "execution_count": 321,
     "metadata": {},
     "output_type": "execute_result"
    },
    {
     "data": {
      "image/png": "[encoded data removed]",
      "text/plain": [
       "<Figure size 640x480 with 1 Axes>"
      ]
     },
     "metadata": {},
     "output_type": "display_data"
    }
   ],
   "source": [
    "plt.xlim(-2,2)\n",
    "plt.ylim(-2,2)\n",
    "plt.scatter(Y[:,0],Y[:,1])"
   ]
  },
  {
   "cell_type": "code",
   "execution_count": 322,
   "metadata": {},
   "outputs": [
    {
     "name": "stdout",
     "output_type": "stream",
     "text": [
      "Mean is = 0.030846876452530914\n"
     ]
    }
   ],
   "source": [
    "print(f\"Mean is = {np.mean(Y)}\")\n"
   ]
  },
  {
   "cell_type": "code",
   "execution_count": 323,
   "metadata": {},
   "outputs": [
    {
     "name": "stdout",
     "output_type": "stream",
     "text": [
      "Standard Deviation is = 0.35633253820261745\n"
     ]
    }
   ],
   "source": [
    "print(f\"Standard Deviation is = {np.std(Y)}\")\n"
   ]
  },
  {
   "cell_type": "code",
   "execution_count": 324,
   "metadata": {},
   "outputs": [
    {
     "data": {
      "text/plain": [
       "array([[0.17020937, 0.1282039 ],\n",
       "       [0.1282039 , 0.09707413]])"
      ]
     },
     "execution_count": 324,
     "metadata": {},
     "output_type": "execute_result"
    }
   ],
   "source": [
    "cov_Y= np.cov(Y.T)\n",
    "cov_Y"
   ]
  },
  {
   "cell_type": "code",
   "execution_count": 325,
   "metadata": {},
   "outputs": [],
   "source": [
    "eigen_value, eigen_vector = np.linalg.eig(cov_Y)"
   ]
  },
  {
   "cell_type": "code",
   "execution_count": 326,
   "metadata": {},
   "outputs": [
    {
     "data": {
      "text/plain": [
       "array([0.26695879, 0.00032472])"
      ]
     },
     "execution_count": 326,
     "metadata": {},
     "output_type": "execute_result"
    }
   ],
   "source": [
    "eigen_value"
   ]
  },
  {
   "cell_type": "code",
   "execution_count": 327,
   "metadata": {},
   "outputs": [
    {
     "data": {
      "text/plain": [
       "array([[ 0.79821384, -0.60237419],\n",
       "       [ 0.60237419,  0.79821384]])"
      ]
     },
     "execution_count": 327,
     "metadata": {},
     "output_type": "execute_result"
    }
   ],
   "source": [
    "eigen_vector"
   ]
  },
  {
   "cell_type": "code",
   "execution_count": 328,
   "metadata": {},
   "outputs": [],
   "source": [
    "lambda1 = eigen_value[0]\n",
    "lambda2 = eigen_value[1]\n"
   ]
  },
  {
   "cell_type": "code",
   "execution_count": 329,
   "metadata": {},
   "outputs": [
    {
     "data": {
      "text/plain": [
       "99.87851276462956"
      ]
     },
     "execution_count": 329,
     "metadata": {},
     "output_type": "execute_result"
    }
   ],
   "source": [
    "proportion_1 = lambda1/np.sum(eigen_value)\n",
    "proportion_1*100"
   ]
  },
  {
   "cell_type": "code",
   "execution_count": 330,
   "metadata": {},
   "outputs": [
    {
     "data": {
      "text/plain": [
       "0.12148723537045131"
      ]
     },
     "execution_count": 330,
     "metadata": {},
     "output_type": "execute_result"
    }
   ],
   "source": [
    "proportion_2 = lambda2/np.sum(eigen_value)\n",
    "proportion_2*100"
   ]
  },
  {
   "cell_type": "code",
   "execution_count": 331,
   "metadata": {},
   "outputs": [
    {
     "data": {
      "text/plain": [
       "array([ 0.07493159, -0.35243736, -0.17825509, -0.46799024, -0.89791679,\n",
       "        0.16900632, -0.45162582,  0.00946434, -0.0530025 , -0.25044786,\n",
       "        0.95681299, -0.3546725 ,  0.93748974,  0.36113236,  1.04611831,\n",
       "       -0.03465663,  0.56434017,  0.17860756, -0.35895379, -0.01963095])"
      ]
     },
     "execution_count": 331,
     "metadata": {},
     "output_type": "execute_result"
    }
   ],
   "source": [
    "if(proportion_1>proportion_2):\n",
    "    new_Y = np.matmul(eigen_vector.T[0,:], Y.T)\n",
    "else:\n",
    "    new_Y = np.matmul(eigen_vector.T[1,:], Y.T)\n",
    "\n",
    "new_Y"
   ]
  },
  {
   "cell_type": "code",
   "execution_count": 332,
   "metadata": {},
   "outputs": [],
   "source": [
    "zeros = np.zeros(len(new_Y))"
   ]
  },
  {
   "cell_type": "code",
   "execution_count": 333,
   "metadata": {},
   "outputs": [
    {
     "data": {
      "image/png": "[encoded data removed]",
      "text/plain": [
       "<Figure size 640x480 with 1 Axes>"
      ]
     },
     "metadata": {},
     "output_type": "display_data"
    }
   ],
   "source": [
    "plt.xlim(-2,2)\n",
    "plt.ylim(-2,2)\n",
    "if(proportion_1>proportion_2):\n",
    "    plt.scatter(new_Y,zeros)\n",
    "if(proportion_2>proportion_1):\n",
    "    plt.scatter(zeros,new_Y)\n"
   ]
  },
  {
   "cell_type": "code",
   "execution_count": null,
   "metadata": {},
   "outputs": [],
   "source": []
  },
  {
   "cell_type": "code",
   "execution_count": null,
   "metadata": {},
   "outputs": [],
   "source": []
  },
  {
   "cell_type": "code",
   "execution_count": null,
   "metadata": {},
   "outputs": [],
   "source": []
  }
 ],
 "metadata": {
  "kernelspec": {
   "display_name": "Pyhton_Development",
   "language": "python",
   "name": "python3"
  },
  "language_info": {
   "codemirror_mode": {
    "name": "ipython",
    "version": 3
   },
   "file_extension": ".py",
   "mimetype": "text/x-python",
   "name": "python",
   "nbconvert_exporter": "python",
   "pygments_lexer": "ipython3",
   "version": "3.10.11"
  },
  "orig_nbformat": 4
 },
 "nbformat": 4,
 "nbformat_minor": 2
}
