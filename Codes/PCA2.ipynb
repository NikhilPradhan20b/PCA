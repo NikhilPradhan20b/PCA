{
 "cells": [
  {
   "cell_type": "code",
   "execution_count": 71,
   "metadata": {},
   "outputs": [],
   "source": [
    "from sklearn import datasets\n",
    "from sklearn.preprocessing import StandardScaler\n",
    "import numpy as np\n",
    "import pandas as pd"
   ]
  },
  {
   "attachments": {},
   "cell_type": "markdown",
   "metadata": {},
   "source": [
    "TRY PC1 PC2 and PC3\n",
    "USE ANOTHER DATASET EXCEPT IRIS"
   ]
  },
  {
   "cell_type": "code",
   "execution_count": 72,
   "metadata": {},
   "outputs": [
    {
     "name": "stdout",
     "output_type": "stream",
     "text": [
      "(150, 4)\n"
     ]
    }
   ],
   "source": [
    "iris = datasets.load_iris()\n",
    "\n",
    "R = np.array(iris.data)\n",
    "print(R.shape)"
   ]
  },
  {
   "cell_type": "code",
   "execution_count": 73,
   "metadata": {},
   "outputs": [
    {
     "data": {
      "text/plain": [
       "['sepal length (cm)',\n",
       " 'sepal width (cm)',\n",
       " 'petal length (cm)',\n",
       " 'petal width (cm)']"
      ]
     },
     "execution_count": 73,
     "metadata": {},
     "output_type": "execute_result"
    }
   ],
   "source": [
    "iris.feature_names"
   ]
  },
  {
   "cell_type": "code",
   "execution_count": 74,
   "metadata": {},
   "outputs": [
    {
     "data": {
      "text/plain": [
       "array([[5.1, 3.5, 1.4, 0.2],\n",
       "       [4.9, 3. , 1.4, 0.2],\n",
       "       [4.7, 3.2, 1.3, 0.2],\n",
       "       [4.6, 3.1, 1.5, 0.2],\n",
       "       [5. , 3.6, 1.4, 0.2],\n",
       "       [5.4, 3.9, 1.7, 0.4],\n",
       "       [4.6, 3.4, 1.4, 0.3],\n",
       "       [5. , 3.4, 1.5, 0.2],\n",
       "       [4.4, 2.9, 1.4, 0.2],\n",
       "       [4.9, 3.1, 1.5, 0.1],\n",
       "       [5.4, 3.7, 1.5, 0.2],\n",
       "       [4.8, 3.4, 1.6, 0.2],\n",
       "       [4.8, 3. , 1.4, 0.1],\n",
       "       [4.3, 3. , 1.1, 0.1],\n",
       "       [5.8, 4. , 1.2, 0.2],\n",
       "       [5.7, 4.4, 1.5, 0.4],\n",
       "       [5.4, 3.9, 1.3, 0.4],\n",
       "       [5.1, 3.5, 1.4, 0.3],\n",
       "       [5.7, 3.8, 1.7, 0.3],\n",
       "       [5.1, 3.8, 1.5, 0.3],\n",
       "       [5.4, 3.4, 1.7, 0.2],\n",
       "       [5.1, 3.7, 1.5, 0.4],\n",
       "       [4.6, 3.6, 1. , 0.2],\n",
       "       [5.1, 3.3, 1.7, 0.5],\n",
       "       [4.8, 3.4, 1.9, 0.2],\n",
       "       [5. , 3. , 1.6, 0.2],\n",
       "       [5. , 3.4, 1.6, 0.4],\n",
       "       [5.2, 3.5, 1.5, 0.2],\n",
       "       [5.2, 3.4, 1.4, 0.2],\n",
       "       [4.7, 3.2, 1.6, 0.2],\n",
       "       [4.8, 3.1, 1.6, 0.2],\n",
       "       [5.4, 3.4, 1.5, 0.4],\n",
       "       [5.2, 4.1, 1.5, 0.1],\n",
       "       [5.5, 4.2, 1.4, 0.2],\n",
       "       [4.9, 3.1, 1.5, 0.2],\n",
       "       [5. , 3.2, 1.2, 0.2],\n",
       "       [5.5, 3.5, 1.3, 0.2],\n",
       "       [4.9, 3.6, 1.4, 0.1],\n",
       "       [4.4, 3. , 1.3, 0.2],\n",
       "       [5.1, 3.4, 1.5, 0.2],\n",
       "       [5. , 3.5, 1.3, 0.3],\n",
       "       [4.5, 2.3, 1.3, 0.3],\n",
       "       [4.4, 3.2, 1.3, 0.2],\n",
       "       [5. , 3.5, 1.6, 0.6],\n",
       "       [5.1, 3.8, 1.9, 0.4],\n",
       "       [4.8, 3. , 1.4, 0.3],\n",
       "       [5.1, 3.8, 1.6, 0.2],\n",
       "       [4.6, 3.2, 1.4, 0.2],\n",
       "       [5.3, 3.7, 1.5, 0.2],\n",
       "       [5. , 3.3, 1.4, 0.2],\n",
       "       [7. , 3.2, 4.7, 1.4],\n",
       "       [6.4, 3.2, 4.5, 1.5],\n",
       "       [6.9, 3.1, 4.9, 1.5],\n",
       "       [5.5, 2.3, 4. , 1.3],\n",
       "       [6.5, 2.8, 4.6, 1.5],\n",
       "       [5.7, 2.8, 4.5, 1.3],\n",
       "       [6.3, 3.3, 4.7, 1.6],\n",
       "       [4.9, 2.4, 3.3, 1. ],\n",
       "       [6.6, 2.9, 4.6, 1.3],\n",
       "       [5.2, 2.7, 3.9, 1.4],\n",
       "       [5. , 2. , 3.5, 1. ],\n",
       "       [5.9, 3. , 4.2, 1.5],\n",
       "       [6. , 2.2, 4. , 1. ],\n",
       "       [6.1, 2.9, 4.7, 1.4],\n",
       "       [5.6, 2.9, 3.6, 1.3],\n",
       "       [6.7, 3.1, 4.4, 1.4],\n",
       "       [5.6, 3. , 4.5, 1.5],\n",
       "       [5.8, 2.7, 4.1, 1. ],\n",
       "       [6.2, 2.2, 4.5, 1.5],\n",
       "       [5.6, 2.5, 3.9, 1.1],\n",
       "       [5.9, 3.2, 4.8, 1.8],\n",
       "       [6.1, 2.8, 4. , 1.3],\n",
       "       [6.3, 2.5, 4.9, 1.5],\n",
       "       [6.1, 2.8, 4.7, 1.2],\n",
       "       [6.4, 2.9, 4.3, 1.3],\n",
       "       [6.6, 3. , 4.4, 1.4],\n",
       "       [6.8, 2.8, 4.8, 1.4],\n",
       "       [6.7, 3. , 5. , 1.7],\n",
       "       [6. , 2.9, 4.5, 1.5],\n",
       "       [5.7, 2.6, 3.5, 1. ],\n",
       "       [5.5, 2.4, 3.8, 1.1],\n",
       "       [5.5, 2.4, 3.7, 1. ],\n",
       "       [5.8, 2.7, 3.9, 1.2],\n",
       "       [6. , 2.7, 5.1, 1.6],\n",
       "       [5.4, 3. , 4.5, 1.5],\n",
       "       [6. , 3.4, 4.5, 1.6],\n",
       "       [6.7, 3.1, 4.7, 1.5],\n",
       "       [6.3, 2.3, 4.4, 1.3],\n",
       "       [5.6, 3. , 4.1, 1.3],\n",
       "       [5.5, 2.5, 4. , 1.3],\n",
       "       [5.5, 2.6, 4.4, 1.2],\n",
       "       [6.1, 3. , 4.6, 1.4],\n",
       "       [5.8, 2.6, 4. , 1.2],\n",
       "       [5. , 2.3, 3.3, 1. ],\n",
       "       [5.6, 2.7, 4.2, 1.3],\n",
       "       [5.7, 3. , 4.2, 1.2],\n",
       "       [5.7, 2.9, 4.2, 1.3],\n",
       "       [6.2, 2.9, 4.3, 1.3],\n",
       "       [5.1, 2.5, 3. , 1.1],\n",
       "       [5.7, 2.8, 4.1, 1.3],\n",
       "       [6.3, 3.3, 6. , 2.5],\n",
       "       [5.8, 2.7, 5.1, 1.9],\n",
       "       [7.1, 3. , 5.9, 2.1],\n",
       "       [6.3, 2.9, 5.6, 1.8],\n",
       "       [6.5, 3. , 5.8, 2.2],\n",
       "       [7.6, 3. , 6.6, 2.1],\n",
       "       [4.9, 2.5, 4.5, 1.7],\n",
       "       [7.3, 2.9, 6.3, 1.8],\n",
       "       [6.7, 2.5, 5.8, 1.8],\n",
       "       [7.2, 3.6, 6.1, 2.5],\n",
       "       [6.5, 3.2, 5.1, 2. ],\n",
       "       [6.4, 2.7, 5.3, 1.9],\n",
       "       [6.8, 3. , 5.5, 2.1],\n",
       "       [5.7, 2.5, 5. , 2. ],\n",
       "       [5.8, 2.8, 5.1, 2.4],\n",
       "       [6.4, 3.2, 5.3, 2.3],\n",
       "       [6.5, 3. , 5.5, 1.8],\n",
       "       [7.7, 3.8, 6.7, 2.2],\n",
       "       [7.7, 2.6, 6.9, 2.3],\n",
       "       [6. , 2.2, 5. , 1.5],\n",
       "       [6.9, 3.2, 5.7, 2.3],\n",
       "       [5.6, 2.8, 4.9, 2. ],\n",
       "       [7.7, 2.8, 6.7, 2. ],\n",
       "       [6.3, 2.7, 4.9, 1.8],\n",
       "       [6.7, 3.3, 5.7, 2.1],\n",
       "       [7.2, 3.2, 6. , 1.8],\n",
       "       [6.2, 2.8, 4.8, 1.8],\n",
       "       [6.1, 3. , 4.9, 1.8],\n",
       "       [6.4, 2.8, 5.6, 2.1],\n",
       "       [7.2, 3. , 5.8, 1.6],\n",
       "       [7.4, 2.8, 6.1, 1.9],\n",
       "       [7.9, 3.8, 6.4, 2. ],\n",
       "       [6.4, 2.8, 5.6, 2.2],\n",
       "       [6.3, 2.8, 5.1, 1.5],\n",
       "       [6.1, 2.6, 5.6, 1.4],\n",
       "       [7.7, 3. , 6.1, 2.3],\n",
       "       [6.3, 3.4, 5.6, 2.4],\n",
       "       [6.4, 3.1, 5.5, 1.8],\n",
       "       [6. , 3. , 4.8, 1.8],\n",
       "       [6.9, 3.1, 5.4, 2.1],\n",
       "       [6.7, 3.1, 5.6, 2.4],\n",
       "       [6.9, 3.1, 5.1, 2.3],\n",
       "       [5.8, 2.7, 5.1, 1.9],\n",
       "       [6.8, 3.2, 5.9, 2.3],\n",
       "       [6.7, 3.3, 5.7, 2.5],\n",
       "       [6.7, 3. , 5.2, 2.3],\n",
       "       [6.3, 2.5, 5. , 1.9],\n",
       "       [6.5, 3. , 5.2, 2. ],\n",
       "       [6.2, 3.4, 5.4, 2.3],\n",
       "       [5.9, 3. , 5.1, 1.8]])"
      ]
     },
     "execution_count": 74,
     "metadata": {},
     "output_type": "execute_result"
    }
   ],
   "source": [
    "iris.data"
   ]
  },
  {
   "cell_type": "code",
   "execution_count": 75,
   "metadata": {},
   "outputs": [],
   "source": [
    "df_iris = pd.DataFrame(iris.data, columns=iris.feature_names)"
   ]
  },
  {
   "cell_type": "code",
   "execution_count": 76,
   "metadata": {},
   "outputs": [
    {
     "data": {
      "text/html": [
       "<div>\n",
       "<style scoped>\n",
       "    .dataframe tbody tr th:only-of-type {\n",
       "        vertical-align: middle;\n",
       "    }\n",
       "\n",
       "    .dataframe tbody tr th {\n",
       "        vertical-align: top;\n",
       "    }\n",
       "\n",
       "    .dataframe thead th {\n",
       "        text-align: right;\n",
       "    }\n",
       "</style>\n",
       "<table border=\"1\" class=\"dataframe\">\n",
       "  <thead>\n",
       "    <tr style=\"text-align: right;\">\n",
       "      <th></th>\n",
       "      <th>sepal length (cm)</th>\n",
       "      <th>sepal width (cm)</th>\n",
       "      <th>petal length (cm)</th>\n",
       "      <th>petal width (cm)</th>\n",
       "      <th>target</th>\n",
       "    </tr>\n",
       "  </thead>\n",
       "  <tbody>\n",
       "    <tr>\n",
       "      <th>0</th>\n",
       "      <td>5.1</td>\n",
       "      <td>3.5</td>\n",
       "      <td>1.4</td>\n",
       "      <td>0.2</td>\n",
       "      <td>0</td>\n",
       "    </tr>\n",
       "    <tr>\n",
       "      <th>1</th>\n",
       "      <td>4.9</td>\n",
       "      <td>3.0</td>\n",
       "      <td>1.4</td>\n",
       "      <td>0.2</td>\n",
       "      <td>0</td>\n",
       "    </tr>\n",
       "    <tr>\n",
       "      <th>2</th>\n",
       "      <td>4.7</td>\n",
       "      <td>3.2</td>\n",
       "      <td>1.3</td>\n",
       "      <td>0.2</td>\n",
       "      <td>0</td>\n",
       "    </tr>\n",
       "    <tr>\n",
       "      <th>3</th>\n",
       "      <td>4.6</td>\n",
       "      <td>3.1</td>\n",
       "      <td>1.5</td>\n",
       "      <td>0.2</td>\n",
       "      <td>0</td>\n",
       "    </tr>\n",
       "    <tr>\n",
       "      <th>4</th>\n",
       "      <td>5.0</td>\n",
       "      <td>3.6</td>\n",
       "      <td>1.4</td>\n",
       "      <td>0.2</td>\n",
       "      <td>0</td>\n",
       "    </tr>\n",
       "  </tbody>\n",
       "</table>\n",
       "</div>"
      ],
      "text/plain": [
       "   sepal length (cm)  sepal width (cm)  petal length (cm)  petal width (cm)  \\\n",
       "0                5.1               3.5                1.4               0.2   \n",
       "1                4.9               3.0                1.4               0.2   \n",
       "2                4.7               3.2                1.3               0.2   \n",
       "3                4.6               3.1                1.5               0.2   \n",
       "4                5.0               3.6                1.4               0.2   \n",
       "\n",
       "   target  \n",
       "0       0  \n",
       "1       0  \n",
       "2       0  \n",
       "3       0  \n",
       "4       0  "
      ]
     },
     "execution_count": 76,
     "metadata": {},
     "output_type": "execute_result"
    }
   ],
   "source": [
    "df_iris['target'] = pd.Series(iris.target)\n",
    "df_iris.head()"
   ]
  },
  {
   "cell_type": "code",
   "execution_count": 77,
   "metadata": {},
   "outputs": [],
   "source": [
    "x = df_iris.iloc[:,0:4].values"
   ]
  },
  {
   "cell_type": "code",
   "execution_count": 78,
   "metadata": {},
   "outputs": [
    {
     "data": {
      "text/plain": [
       "array([[5.1, 3.5, 1.4, 0.2],\n",
       "       [4.9, 3. , 1.4, 0.2],\n",
       "       [4.7, 3.2, 1.3, 0.2],\n",
       "       [4.6, 3.1, 1.5, 0.2],\n",
       "       [5. , 3.6, 1.4, 0.2],\n",
       "       [5.4, 3.9, 1.7, 0.4],\n",
       "       [4.6, 3.4, 1.4, 0.3],\n",
       "       [5. , 3.4, 1.5, 0.2],\n",
       "       [4.4, 2.9, 1.4, 0.2],\n",
       "       [4.9, 3.1, 1.5, 0.1],\n",
       "       [5.4, 3.7, 1.5, 0.2],\n",
       "       [4.8, 3.4, 1.6, 0.2],\n",
       "       [4.8, 3. , 1.4, 0.1],\n",
       "       [4.3, 3. , 1.1, 0.1],\n",
       "       [5.8, 4. , 1.2, 0.2],\n",
       "       [5.7, 4.4, 1.5, 0.4],\n",
       "       [5.4, 3.9, 1.3, 0.4],\n",
       "       [5.1, 3.5, 1.4, 0.3],\n",
       "       [5.7, 3.8, 1.7, 0.3],\n",
       "       [5.1, 3.8, 1.5, 0.3],\n",
       "       [5.4, 3.4, 1.7, 0.2],\n",
       "       [5.1, 3.7, 1.5, 0.4],\n",
       "       [4.6, 3.6, 1. , 0.2],\n",
       "       [5.1, 3.3, 1.7, 0.5],\n",
       "       [4.8, 3.4, 1.9, 0.2],\n",
       "       [5. , 3. , 1.6, 0.2],\n",
       "       [5. , 3.4, 1.6, 0.4],\n",
       "       [5.2, 3.5, 1.5, 0.2],\n",
       "       [5.2, 3.4, 1.4, 0.2],\n",
       "       [4.7, 3.2, 1.6, 0.2],\n",
       "       [4.8, 3.1, 1.6, 0.2],\n",
       "       [5.4, 3.4, 1.5, 0.4],\n",
       "       [5.2, 4.1, 1.5, 0.1],\n",
       "       [5.5, 4.2, 1.4, 0.2],\n",
       "       [4.9, 3.1, 1.5, 0.2],\n",
       "       [5. , 3.2, 1.2, 0.2],\n",
       "       [5.5, 3.5, 1.3, 0.2],\n",
       "       [4.9, 3.6, 1.4, 0.1],\n",
       "       [4.4, 3. , 1.3, 0.2],\n",
       "       [5.1, 3.4, 1.5, 0.2],\n",
       "       [5. , 3.5, 1.3, 0.3],\n",
       "       [4.5, 2.3, 1.3, 0.3],\n",
       "       [4.4, 3.2, 1.3, 0.2],\n",
       "       [5. , 3.5, 1.6, 0.6],\n",
       "       [5.1, 3.8, 1.9, 0.4],\n",
       "       [4.8, 3. , 1.4, 0.3],\n",
       "       [5.1, 3.8, 1.6, 0.2],\n",
       "       [4.6, 3.2, 1.4, 0.2],\n",
       "       [5.3, 3.7, 1.5, 0.2],\n",
       "       [5. , 3.3, 1.4, 0.2],\n",
       "       [7. , 3.2, 4.7, 1.4],\n",
       "       [6.4, 3.2, 4.5, 1.5],\n",
       "       [6.9, 3.1, 4.9, 1.5],\n",
       "       [5.5, 2.3, 4. , 1.3],\n",
       "       [6.5, 2.8, 4.6, 1.5],\n",
       "       [5.7, 2.8, 4.5, 1.3],\n",
       "       [6.3, 3.3, 4.7, 1.6],\n",
       "       [4.9, 2.4, 3.3, 1. ],\n",
       "       [6.6, 2.9, 4.6, 1.3],\n",
       "       [5.2, 2.7, 3.9, 1.4],\n",
       "       [5. , 2. , 3.5, 1. ],\n",
       "       [5.9, 3. , 4.2, 1.5],\n",
       "       [6. , 2.2, 4. , 1. ],\n",
       "       [6.1, 2.9, 4.7, 1.4],\n",
       "       [5.6, 2.9, 3.6, 1.3],\n",
       "       [6.7, 3.1, 4.4, 1.4],\n",
       "       [5.6, 3. , 4.5, 1.5],\n",
       "       [5.8, 2.7, 4.1, 1. ],\n",
       "       [6.2, 2.2, 4.5, 1.5],\n",
       "       [5.6, 2.5, 3.9, 1.1],\n",
       "       [5.9, 3.2, 4.8, 1.8],\n",
       "       [6.1, 2.8, 4. , 1.3],\n",
       "       [6.3, 2.5, 4.9, 1.5],\n",
       "       [6.1, 2.8, 4.7, 1.2],\n",
       "       [6.4, 2.9, 4.3, 1.3],\n",
       "       [6.6, 3. , 4.4, 1.4],\n",
       "       [6.8, 2.8, 4.8, 1.4],\n",
       "       [6.7, 3. , 5. , 1.7],\n",
       "       [6. , 2.9, 4.5, 1.5],\n",
       "       [5.7, 2.6, 3.5, 1. ],\n",
       "       [5.5, 2.4, 3.8, 1.1],\n",
       "       [5.5, 2.4, 3.7, 1. ],\n",
       "       [5.8, 2.7, 3.9, 1.2],\n",
       "       [6. , 2.7, 5.1, 1.6],\n",
       "       [5.4, 3. , 4.5, 1.5],\n",
       "       [6. , 3.4, 4.5, 1.6],\n",
       "       [6.7, 3.1, 4.7, 1.5],\n",
       "       [6.3, 2.3, 4.4, 1.3],\n",
       "       [5.6, 3. , 4.1, 1.3],\n",
       "       [5.5, 2.5, 4. , 1.3],\n",
       "       [5.5, 2.6, 4.4, 1.2],\n",
       "       [6.1, 3. , 4.6, 1.4],\n",
       "       [5.8, 2.6, 4. , 1.2],\n",
       "       [5. , 2.3, 3.3, 1. ],\n",
       "       [5.6, 2.7, 4.2, 1.3],\n",
       "       [5.7, 3. , 4.2, 1.2],\n",
       "       [5.7, 2.9, 4.2, 1.3],\n",
       "       [6.2, 2.9, 4.3, 1.3],\n",
       "       [5.1, 2.5, 3. , 1.1],\n",
       "       [5.7, 2.8, 4.1, 1.3],\n",
       "       [6.3, 3.3, 6. , 2.5],\n",
       "       [5.8, 2.7, 5.1, 1.9],\n",
       "       [7.1, 3. , 5.9, 2.1],\n",
       "       [6.3, 2.9, 5.6, 1.8],\n",
       "       [6.5, 3. , 5.8, 2.2],\n",
       "       [7.6, 3. , 6.6, 2.1],\n",
       "       [4.9, 2.5, 4.5, 1.7],\n",
       "       [7.3, 2.9, 6.3, 1.8],\n",
       "       [6.7, 2.5, 5.8, 1.8],\n",
       "       [7.2, 3.6, 6.1, 2.5],\n",
       "       [6.5, 3.2, 5.1, 2. ],\n",
       "       [6.4, 2.7, 5.3, 1.9],\n",
       "       [6.8, 3. , 5.5, 2.1],\n",
       "       [5.7, 2.5, 5. , 2. ],\n",
       "       [5.8, 2.8, 5.1, 2.4],\n",
       "       [6.4, 3.2, 5.3, 2.3],\n",
       "       [6.5, 3. , 5.5, 1.8],\n",
       "       [7.7, 3.8, 6.7, 2.2],\n",
       "       [7.7, 2.6, 6.9, 2.3],\n",
       "       [6. , 2.2, 5. , 1.5],\n",
       "       [6.9, 3.2, 5.7, 2.3],\n",
       "       [5.6, 2.8, 4.9, 2. ],\n",
       "       [7.7, 2.8, 6.7, 2. ],\n",
       "       [6.3, 2.7, 4.9, 1.8],\n",
       "       [6.7, 3.3, 5.7, 2.1],\n",
       "       [7.2, 3.2, 6. , 1.8],\n",
       "       [6.2, 2.8, 4.8, 1.8],\n",
       "       [6.1, 3. , 4.9, 1.8],\n",
       "       [6.4, 2.8, 5.6, 2.1],\n",
       "       [7.2, 3. , 5.8, 1.6],\n",
       "       [7.4, 2.8, 6.1, 1.9],\n",
       "       [7.9, 3.8, 6.4, 2. ],\n",
       "       [6.4, 2.8, 5.6, 2.2],\n",
       "       [6.3, 2.8, 5.1, 1.5],\n",
       "       [6.1, 2.6, 5.6, 1.4],\n",
       "       [7.7, 3. , 6.1, 2.3],\n",
       "       [6.3, 3.4, 5.6, 2.4],\n",
       "       [6.4, 3.1, 5.5, 1.8],\n",
       "       [6. , 3. , 4.8, 1.8],\n",
       "       [6.9, 3.1, 5.4, 2.1],\n",
       "       [6.7, 3.1, 5.6, 2.4],\n",
       "       [6.9, 3.1, 5.1, 2.3],\n",
       "       [5.8, 2.7, 5.1, 1.9],\n",
       "       [6.8, 3.2, 5.9, 2.3],\n",
       "       [6.7, 3.3, 5.7, 2.5],\n",
       "       [6.7, 3. , 5.2, 2.3],\n",
       "       [6.3, 2.5, 5. , 1.9],\n",
       "       [6.5, 3. , 5.2, 2. ],\n",
       "       [6.2, 3.4, 5.4, 2.3],\n",
       "       [5.9, 3. , 5.1, 1.8]])"
      ]
     },
     "execution_count": 78,
     "metadata": {},
     "output_type": "execute_result"
    }
   ],
   "source": [
    "x"
   ]
  },
  {
   "cell_type": "code",
   "execution_count": 79,
   "metadata": {},
   "outputs": [
    {
     "data": {
      "text/plain": [
       "3.4644999999999997"
      ]
     },
     "execution_count": 79,
     "metadata": {},
     "output_type": "execute_result"
    }
   ],
   "source": [
    "np.mean(x)"
   ]
  },
  {
   "cell_type": "code",
   "execution_count": 80,
   "metadata": {},
   "outputs": [
    {
     "data": {
      "text/plain": [
       "1.9738430577598278"
      ]
     },
     "execution_count": 80,
     "metadata": {},
     "output_type": "execute_result"
    }
   ],
   "source": [
    "np.std(x)"
   ]
  },
  {
   "cell_type": "code",
   "execution_count": 81,
   "metadata": {},
   "outputs": [],
   "source": [
    "x_std = StandardScaler().fit_transform(x)"
   ]
  },
  {
   "cell_type": "code",
   "execution_count": 82,
   "metadata": {},
   "outputs": [
    {
     "data": {
      "text/plain": [
       "-1.4684549872375404e-15"
      ]
     },
     "execution_count": 82,
     "metadata": {},
     "output_type": "execute_result"
    }
   ],
   "source": [
    "x_std.mean()"
   ]
  },
  {
   "cell_type": "code",
   "execution_count": 83,
   "metadata": {},
   "outputs": [
    {
     "data": {
      "text/plain": [
       "1.0"
      ]
     },
     "execution_count": 83,
     "metadata": {},
     "output_type": "execute_result"
    }
   ],
   "source": [
    "x_std.std()"
   ]
  },
  {
   "cell_type": "code",
   "execution_count": 84,
   "metadata": {},
   "outputs": [
    {
     "data": {
      "text/plain": [
       "array([[ 1.00671141, -0.11835884,  0.87760447,  0.82343066],\n",
       "       [-0.11835884,  1.00671141, -0.43131554, -0.36858315],\n",
       "       [ 0.87760447, -0.43131554,  1.00671141,  0.96932762],\n",
       "       [ 0.82343066, -0.36858315,  0.96932762,  1.00671141]])"
      ]
     },
     "execution_count": 84,
     "metadata": {},
     "output_type": "execute_result"
    }
   ],
   "source": [
    "sx  = np.cov(x_std.T)\n",
    "sx"
   ]
  },
  {
   "cell_type": "code",
   "execution_count": 85,
   "metadata": {},
   "outputs": [],
   "source": [
    "eigVal, eigVec = np.linalg.eig(sx)"
   ]
  },
  {
   "cell_type": "code",
   "execution_count": 86,
   "metadata": {},
   "outputs": [
    {
     "data": {
      "text/plain": [
       "array([0.72962445, 0.22850762, 0.03668922, 0.00517871])"
      ]
     },
     "execution_count": 86,
     "metadata": {},
     "output_type": "execute_result"
    }
   ],
   "source": [
    "eigVal / eigVal.sum()"
   ]
  },
  {
   "cell_type": "code",
   "execution_count": 87,
   "metadata": {},
   "outputs": [
    {
     "data": {
      "text/plain": [
       "array([[ 0.52106591, -0.37741762, -0.71956635,  0.26128628],\n",
       "       [-0.26934744, -0.92329566,  0.24438178, -0.12350962],\n",
       "       [ 0.5804131 , -0.02449161,  0.14212637, -0.80144925],\n",
       "       [ 0.56485654, -0.06694199,  0.63427274,  0.52359713]])"
      ]
     },
     "execution_count": 87,
     "metadata": {},
     "output_type": "execute_result"
    }
   ],
   "source": [
    "eigVec"
   ]
  },
  {
   "cell_type": "code",
   "execution_count": 88,
   "metadata": {},
   "outputs": [
    {
     "data": {
      "text/plain": [
       "array([[-2.26470281, -0.4800266 ],\n",
       "       [-2.08096115,  0.67413356],\n",
       "       [-2.36422905,  0.34190802],\n",
       "       [-2.29938422,  0.59739451],\n",
       "       [-2.38984217, -0.64683538],\n",
       "       [-2.07563095, -1.48917752],\n",
       "       [-2.44402884, -0.0476442 ],\n",
       "       [-2.23284716, -0.22314807],\n",
       "       [-2.33464048,  1.11532768],\n",
       "       [-2.18432817,  0.46901356],\n",
       "       [-2.1663101 , -1.04369065],\n",
       "       [-2.32613087, -0.13307834],\n",
       "       [-2.2184509 ,  0.72867617],\n",
       "       [-2.6331007 ,  0.96150673],\n",
       "       [-2.1987406 , -1.86005711],\n",
       "       [-2.26221453, -2.68628449],\n",
       "       [-2.2075877 , -1.48360936],\n",
       "       [-2.19034951, -0.48883832],\n",
       "       [-1.898572  , -1.40501879],\n",
       "       [-2.34336905, -1.12784938],\n",
       "       [-1.914323  , -0.40885571],\n",
       "       [-2.20701284, -0.92412143],\n",
       "       [-2.7743447 , -0.45834367],\n",
       "       [-1.81866953, -0.08555853],\n",
       "       [-2.22716331, -0.13725446],\n",
       "       [-1.95184633,  0.62561859],\n",
       "       [-2.05115137, -0.24216355],\n",
       "       [-2.16857717, -0.52714953],\n",
       "       [-2.13956345, -0.31321781],\n",
       "       [-2.26526149,  0.3377319 ],\n",
       "       [-2.14012214,  0.50454069],\n",
       "       [-1.83159477, -0.42369507],\n",
       "       [-2.61494794, -1.79357586],\n",
       "       [-2.44617739, -2.15072788],\n",
       "       [-2.10997488,  0.46020184],\n",
       "       [-2.2078089 ,  0.2061074 ],\n",
       "       [-2.04514621, -0.66155811],\n",
       "       [-2.52733191, -0.59229277],\n",
       "       [-2.42963258,  0.90418004],\n",
       "       [-2.16971071, -0.26887896],\n",
       "       [-2.28647514, -0.44171539],\n",
       "       [-1.85812246,  2.33741516],\n",
       "       [-2.5536384 ,  0.47910069],\n",
       "       [-1.96444768, -0.47232667],\n",
       "       [-2.13705901, -1.14222926],\n",
       "       [-2.0697443 ,  0.71105273],\n",
       "       [-2.38473317, -1.1204297 ],\n",
       "       [-2.39437631,  0.38624687],\n",
       "       [-2.22944655, -0.99795976],\n",
       "       [-2.20383344, -0.00921636],\n",
       "       [ 1.10178118, -0.86297242],\n",
       "       [ 0.73133743, -0.59461473],\n",
       "       [ 1.24097932, -0.61629765],\n",
       "       [ 0.40748306,  1.75440399],\n",
       "       [ 1.0754747 ,  0.20842105],\n",
       "       [ 0.38868734,  0.59328364],\n",
       "       [ 0.74652974, -0.77301931],\n",
       "       [-0.48732274,  1.85242909],\n",
       "       [ 0.92790164, -0.03222608],\n",
       "       [ 0.01142619,  1.03401828],\n",
       "       [-0.11019628,  2.65407282],\n",
       "       [ 0.44069345,  0.06329519],\n",
       "       [ 0.56210831,  1.76472438],\n",
       "       [ 0.71956189,  0.18622461],\n",
       "       [-0.0333547 ,  0.43900321],\n",
       "       [ 0.87540719, -0.50906396],\n",
       "       [ 0.35025167,  0.19631173],\n",
       "       [ 0.15881005,  0.79209574],\n",
       "       [ 1.22509363,  1.6222438 ],\n",
       "       [ 0.1649179 ,  1.30260923],\n",
       "       [ 0.73768265, -0.39657156],\n",
       "       [ 0.47628719,  0.41732028],\n",
       "       [ 1.2341781 ,  0.93332573],\n",
       "       [ 0.6328582 ,  0.41638772],\n",
       "       [ 0.70266118,  0.06341182],\n",
       "       [ 0.87427365, -0.25079339],\n",
       "       [ 1.25650912,  0.07725602],\n",
       "       [ 1.35840512, -0.33131168],\n",
       "       [ 0.66480037,  0.22592785],\n",
       "       [-0.04025861,  1.05871855],\n",
       "       [ 0.13079518,  1.56227183],\n",
       "       [ 0.02345269,  1.57247559],\n",
       "       [ 0.24153827,  0.77725638],\n",
       "       [ 1.06109461,  0.63384324],\n",
       "       [ 0.22397877,  0.28777351],\n",
       "       [ 0.42913912, -0.84558224],\n",
       "       [ 1.04872805, -0.5220518 ],\n",
       "       [ 1.04453138,  1.38298872],\n",
       "       [ 0.06958832,  0.21950333],\n",
       "       [ 0.28347724,  1.32932464],\n",
       "       [ 0.27907778,  1.12002852],\n",
       "       [ 0.62456979, -0.02492303],\n",
       "       [ 0.33653037,  0.98840402],\n",
       "       [-0.36218338,  2.01923787],\n",
       "       [ 0.28858624,  0.85573032],\n",
       "       [ 0.09136066,  0.18119213],\n",
       "       [ 0.22771687,  0.38492008],\n",
       "       [ 0.57638829,  0.1548736 ],\n",
       "       [-0.44766702,  1.54379203],\n",
       "       [ 0.25673059,  0.5988518 ],\n",
       "       [ 1.84456887, -0.87042131],\n",
       "       [ 1.15788161,  0.69886986],\n",
       "       [ 2.20526679, -0.56201048],\n",
       "       [ 1.44015066,  0.04698759],\n",
       "       [ 1.86781222, -0.29504482],\n",
       "       [ 2.75187334, -0.8004092 ],\n",
       "       [ 0.36701769,  1.56150289],\n",
       "       [ 2.30243944, -0.42006558],\n",
       "       [ 2.00668647,  0.71143865],\n",
       "       [ 2.25977735, -1.92101038],\n",
       "       [ 1.36417549, -0.69275645],\n",
       "       [ 1.60267867,  0.42170045],\n",
       "       [ 1.8839007 , -0.41924965],\n",
       "       [ 1.2601151 ,  1.16226042],\n",
       "       [ 1.4676452 ,  0.44227159],\n",
       "       [ 1.59007732, -0.67624481],\n",
       "       [ 1.47143146, -0.25562182],\n",
       "       [ 2.42632899, -2.55666125],\n",
       "       [ 3.31069558, -0.01778095],\n",
       "       [ 1.26376667,  1.70674538],\n",
       "       [ 2.0377163 , -0.91046741],\n",
       "       [ 0.97798073,  0.57176432],\n",
       "       [ 2.89765149, -0.41364106],\n",
       "       [ 1.33323218,  0.48181122],\n",
       "       [ 1.7007339 , -1.01392187],\n",
       "       [ 1.95432671, -1.0077776 ],\n",
       "       [ 1.17510363,  0.31639447],\n",
       "       [ 1.02095055, -0.06434603],\n",
       "       [ 1.78834992,  0.18736121],\n",
       "       [ 1.86364755, -0.56229073],\n",
       "       [ 2.43595373, -0.25928443],\n",
       "       [ 2.30492772, -2.62632347],\n",
       "       [ 1.86270322,  0.17854949],\n",
       "       [ 1.11414774,  0.29292262],\n",
       "       [ 1.2024733 ,  0.81131527],\n",
       "       [ 2.79877045, -0.85680333],\n",
       "       [ 1.57625591, -1.06858111],\n",
       "       [ 1.3462921 , -0.42243061],\n",
       "       [ 0.92482492, -0.0172231 ],\n",
       "       [ 1.85204505, -0.67612817],\n",
       "       [ 2.01481043, -0.61388564],\n",
       "       [ 1.90178409, -0.68957549],\n",
       "       [ 1.15788161,  0.69886986],\n",
       "       [ 2.04055823, -0.8675206 ],\n",
       "       [ 1.9981471 , -1.04916875],\n",
       "       [ 1.87050329, -0.38696608],\n",
       "       [ 1.56458048,  0.89668681],\n",
       "       [ 1.5211705 , -0.26906914],\n",
       "       [ 1.37278779, -1.01125442],\n",
       "       [ 0.96065603,  0.02433167]])"
      ]
     },
     "execution_count": 88,
     "metadata": {},
     "output_type": "execute_result"
    }
   ],
   "source": [
    "transformed_x = np.matmul(eigVec.T[:2, :], x_std.T).T\n",
    "transformed_x"
   ]
  },
  {
   "cell_type": "code",
   "execution_count": 89,
   "metadata": {},
   "outputs": [],
   "source": [
    "import matplotlib.pyplot as plt"
   ]
  },
  {
   "cell_type": "code",
   "execution_count": 90,
   "metadata": {},
   "outputs": [
    {
     "data": {
      "text/plain": [
       "<matplotlib.legend.Legend at 0x17188c3fa60>"
      ]
     },
     "execution_count": 90,
     "metadata": {},
     "output_type": "execute_result"
    },
    {
     "data": {
      "image/png": "[encoded data removed]",
      "text/plain": [
       "<Figure size 640x480 with 1 Axes>"
      ]
     },
     "metadata": {},
     "output_type": "display_data"
    }
   ],
   "source": [
    "plt.plot(transformed_x[df_iris['target'] == 0][:, 0], transformed_x[df_iris['target'] == 0][:, 1], '.', label= 'setosa')\n",
    "plt.plot(transformed_x[df_iris['target'] == 1][:, 0], transformed_x[df_iris['target'] == 1][:, 1], '.', label = 'versicolor')\n",
    "plt.plot(transformed_x[df_iris['target'] == 2][:, 0], transformed_x[df_iris['target'] == 2][:, 1], '.', label = 'virginica')\n",
    "plt.title('Using top 2 PCA capturing (72+22)% variation')\n",
    "plt.xlabel('PCA1')\n",
    "plt.ylabel('PCA2')\n",
    "plt.legend()"
   ]
  },
  {
   "cell_type": "code",
   "execution_count": 96,
   "metadata": {},
   "outputs": [
    {
     "data": {
      "text/plain": [
       "array([[-2.26470281, -0.12770602],\n",
       "       [-2.08096115, -0.23460885],\n",
       "       [-2.36422905,  0.04420148],\n",
       "       [-2.29938422,  0.09129011],\n",
       "       [-2.38984217,  0.0157382 ],\n",
       "       [-2.07563095,  0.02696829],\n",
       "       [-2.44402884,  0.3354704 ],\n",
       "       [-2.23284716, -0.0886955 ],\n",
       "       [-2.33464048,  0.14507686],\n",
       "       [-2.18432817, -0.25376557],\n",
       "       [-2.1663101 , -0.2686811 ],\n",
       "       [-2.32613087,  0.09375924],\n",
       "       [-2.2184509 , -0.23091124],\n",
       "       [-2.6331007 ,  0.18079608],\n",
       "       [-2.1987406 , -0.472901  ],\n",
       "       [-2.26221453,  0.03052661],\n",
       "       [-2.2075877 , -0.00534409],\n",
       "       [-2.19034951, -0.04421532],\n",
       "       [-1.898572  , -0.37434327],\n",
       "       [-2.34336905,  0.13263047],\n",
       "       [-1.914323  , -0.42129259],\n",
       "       [-2.20701284,  0.15986528],\n",
       "       [-2.7743447 ,  0.3321791 ],\n",
       "       [-1.81866953,  0.0344886 ],\n",
       "       [-2.22716331,  0.11799354],\n",
       "       [-1.95184633, -0.30564098],\n",
       "       [-2.05115137,  0.08636401],\n",
       "       [-2.16857717, -0.20681625],\n",
       "       [-2.13956345, -0.27115024],\n",
       "       [-2.26526149,  0.06843578],\n",
       "       [-2.14012214, -0.07500844],\n",
       "       [-1.83159477, -0.27046738],\n",
       "       [-2.61494794,  0.04722842],\n",
       "       [-2.44617739, -0.08266805],\n",
       "       [-2.10997488, -0.17027486],\n",
       "       [-2.2078089 , -0.22544158],\n",
       "       [-2.04514621, -0.48453741],\n",
       "       [-2.52733191,  0.01943581],\n",
       "       [-2.42963258,  0.19325466],\n",
       "       [-2.16971071, -0.17588382],\n",
       "       [-2.28647514,  0.03489491],\n",
       "       [-1.85812246, -0.20423422],\n",
       "       [-2.5536384 ,  0.30576645],\n",
       "       [-1.96444768,  0.30960132],\n",
       "       [-2.13705901,  0.24843356],\n",
       "       [-2.0697443 , -0.06392983],\n",
       "       [-2.38473317,  0.05721786],\n",
       "       [-2.39437631,  0.1394679 ],\n",
       "       [-2.22944655, -0.18149278],\n",
       "       [-2.20383344, -0.15302949],\n",
       "       [ 1.10178118, -0.68458616],\n",
       "       [ 0.73133743, -0.09412172],\n",
       "       [ 1.24097932, -0.55400684],\n",
       "       [ 0.40748306, -0.02310177],\n",
       "       [ 1.0754747 , -0.39825552],\n",
       "       [ 0.38868734,  0.12419155],\n",
       "       [ 0.74652974,  0.1489694 ],\n",
       "       [-0.48732274,  0.24926527],\n",
       "       [ 0.92790164, -0.59616936],\n",
       "       [ 0.01142619,  0.53889939],\n",
       "       [-0.11019628, -0.04679044],\n",
       "       [ 0.44069345,  0.20507382],\n",
       "       [ 0.56210831, -0.76577139],\n",
       "       [ 0.71956189, -0.06865895],\n",
       "       [-0.0333547 ,  0.19493289],\n",
       "       [ 0.87540719, -0.50351138],\n",
       "       [ 0.35025167,  0.49087307],\n",
       "       [ 0.15881005, -0.30203717],\n",
       "       [ 1.22509363, -0.48230402],\n",
       "       [ 0.1649179 , -0.17283781],\n",
       "       [ 0.73768265,  0.61652631],\n",
       "       [ 0.47628719, -0.26495223],\n",
       "       [ 1.2341781 , -0.36841227],\n",
       "       [ 0.6328582 , -0.29189625],\n",
       "       [ 0.70266118, -0.44602701],\n",
       "       [ 0.87427365, -0.47257895],\n",
       "       [ 1.25650912, -0.727155  ],\n",
       "       [ 1.35840512, -0.26082658],\n",
       "       [ 0.66480037,  0.08586389],\n",
       "       [-0.04025861, -0.31957333],\n",
       "       [ 0.13079518, -0.14998348],\n",
       "       [ 0.02345269, -0.24155228],\n",
       "       [ 0.24153827, -0.15121196],\n",
       "       [ 1.06109461,  0.10531139],\n",
       "       [ 0.22397877,  0.66524972],\n",
       "       [ 0.42913912,  0.45063407],\n",
       "       [ 1.04872805, -0.39578638],\n",
       "       [ 1.04453138, -0.68829596],\n",
       "       [ 0.06958832,  0.29157927],\n",
       "       [ 0.28347724,  0.08941002],\n",
       "       [ 0.27907778,  0.0944876 ],\n",
       "       [ 0.62456979, -0.02048115],\n",
       "       [ 0.33653037, -0.19938976],\n",
       "       [-0.36218338,  0.10582105],\n",
       "       [ 0.28858624,  0.13088969],\n",
       "       [ 0.09136066,  0.12897834],\n",
       "       [ 0.22771687,  0.15621315],\n",
       "       [ 0.57638829, -0.27165036],\n",
       "       [-0.44766702,  0.19040093],\n",
       "       [ 0.25673059,  0.09187916],\n",
       "       [ 1.84456887,  1.00540102],\n",
       "       [ 1.15788161,  0.53016015],\n",
       "       [ 2.20526679, -0.20291417],\n",
       "       [ 1.44015066,  0.16363011],\n",
       "       [ 1.86781222,  0.39562837],\n",
       "       [ 2.75187334, -0.5823091 ],\n",
       "       [ 0.36701769,  0.98689327],\n",
       "       [ 2.30243944, -0.65170644],\n",
       "       [ 2.00668647, -0.39399057],\n",
       "       [ 2.25977735,  0.3975519 ],\n",
       "       [ 1.36417549,  0.28461207],\n",
       "       [ 1.60267867,  0.02318641],\n",
       "       [ 1.8839007 ,  0.02633841],\n",
       "       [ 1.2601151 ,  0.58024929],\n",
       "       [ 1.4676452 ,  1.00386957],\n",
       "       [ 1.59007732,  0.63842871],\n",
       "       [ 1.47143146,  0.03743126],\n",
       "       [ 2.42632899, -0.12788146],\n",
       "       [ 3.31069558, -0.7033053 ],\n",
       "       [ 1.26376667, -0.26753689],\n",
       "       [ 2.0377163 ,  0.23479948],\n",
       "       [ 0.97798073,  0.8281272 ],\n",
       "       [ 2.89765149, -0.85742182],\n",
       "       [ 1.33323218, -0.00542836],\n",
       "       [ 1.7007339 ,  0.29845061],\n",
       "       [ 1.95432671, -0.41998472],\n",
       "       [ 1.17510363,  0.12993776],\n",
       "       [ 1.02095055,  0.33771597],\n",
       "       [ 1.78834992,  0.27065801],\n",
       "       [ 1.86364755, -0.71563412],\n",
       "       [ 2.43595373, -0.72781615],\n",
       "       [ 2.30492772, -0.49347381],\n",
       "       [ 1.86270322,  0.35414871],\n",
       "       [ 1.11414774, -0.18348839],\n",
       "       [ 1.2024733 , -0.16472376],\n",
       "       [ 2.79877045, -0.5429065 ],\n",
       "       [ 1.57625591,  0.94585382],\n",
       "       [ 1.3462921 ,  0.18087548],\n",
       "       [ 0.92482492,  0.41682619],\n",
       "       [ 1.85204505, -0.01267211],\n",
       "       [ 2.01481043,  0.42833284],\n",
       "       [ 1.90178409,  0.13007501],\n",
       "       [ 1.15788161,  0.53016015],\n",
       "       [ 2.04055823,  0.338144  ],\n",
       "       [ 1.9981471 ,  0.63241344],\n",
       "       [ 1.87050329,  0.25627385],\n",
       "       [ 1.56458048, -0.02637135],\n",
       "       [ 1.5211705 ,  0.18017838],\n",
       "       [ 1.37278779,  0.93339524],\n",
       "       [ 0.96065603,  0.52824881]])"
      ]
     },
     "execution_count": 96,
     "metadata": {},
     "output_type": "execute_result"
    }
   ],
   "source": [
    "transformed_x = np.matmul(eigVec.T[[0,2], :], x_std.T).T\n",
    "transformed_x"
   ]
  },
  {
   "cell_type": "code",
   "execution_count": 98,
   "metadata": {},
   "outputs": [
    {
     "data": {
      "text/plain": [
       "<matplotlib.legend.Legend at 0x17188d0feb0>"
      ]
     },
     "execution_count": 98,
     "metadata": {},
     "output_type": "execute_result"
    },
    {
     "data": {
      "image/png": "[encoded data removed]",
      "text/plain": [
       "<Figure size 640x480 with 1 Axes>"
      ]
     },
     "metadata": {},
     "output_type": "display_data"
    }
   ],
   "source": [
    "plt.plot(transformed_x[df_iris['target'] == 0][:, 0], transformed_x[df_iris['target'] == 0][:, 1], '.', label= 'setosa')\n",
    "plt.plot(transformed_x[df_iris['target'] == 1][:, 0], transformed_x[df_iris['target'] == 1][:, 1], '.', label = 'versicolor')\n",
    "plt.plot(transformed_x[df_iris['target'] == 2][:, 0], transformed_x[df_iris['target'] == 2][:, 1], '.', label = 'virginica')\n",
    "plt.title('Using top 2 PCA capturing (72+3)% variation')\n",
    "plt.xlabel('PCA1')\n",
    "plt.ylabel('PCA3')\n",
    "plt.legend()"
   ]
  },
  {
   "cell_type": "code",
   "execution_count": 99,
   "metadata": {},
   "outputs": [
    {
     "data": {
      "text/plain": [
       "array([[-0.4800266 , -0.12770602],\n",
       "       [ 0.67413356, -0.23460885],\n",
       "       [ 0.34190802,  0.04420148],\n",
       "       [ 0.59739451,  0.09129011],\n",
       "       [-0.64683538,  0.0157382 ],\n",
       "       [-1.48917752,  0.02696829],\n",
       "       [-0.0476442 ,  0.3354704 ],\n",
       "       [-0.22314807, -0.0886955 ],\n",
       "       [ 1.11532768,  0.14507686],\n",
       "       [ 0.46901356, -0.25376557],\n",
       "       [-1.04369065, -0.2686811 ],\n",
       "       [-0.13307834,  0.09375924],\n",
       "       [ 0.72867617, -0.23091124],\n",
       "       [ 0.96150673,  0.18079608],\n",
       "       [-1.86005711, -0.472901  ],\n",
       "       [-2.68628449,  0.03052661],\n",
       "       [-1.48360936, -0.00534409],\n",
       "       [-0.48883832, -0.04421532],\n",
       "       [-1.40501879, -0.37434327],\n",
       "       [-1.12784938,  0.13263047],\n",
       "       [-0.40885571, -0.42129259],\n",
       "       [-0.92412143,  0.15986528],\n",
       "       [-0.45834367,  0.3321791 ],\n",
       "       [-0.08555853,  0.0344886 ],\n",
       "       [-0.13725446,  0.11799354],\n",
       "       [ 0.62561859, -0.30564098],\n",
       "       [-0.24216355,  0.08636401],\n",
       "       [-0.52714953, -0.20681625],\n",
       "       [-0.31321781, -0.27115024],\n",
       "       [ 0.3377319 ,  0.06843578],\n",
       "       [ 0.50454069, -0.07500844],\n",
       "       [-0.42369507, -0.27046738],\n",
       "       [-1.79357586,  0.04722842],\n",
       "       [-2.15072788, -0.08266805],\n",
       "       [ 0.46020184, -0.17027486],\n",
       "       [ 0.2061074 , -0.22544158],\n",
       "       [-0.66155811, -0.48453741],\n",
       "       [-0.59229277,  0.01943581],\n",
       "       [ 0.90418004,  0.19325466],\n",
       "       [-0.26887896, -0.17588382],\n",
       "       [-0.44171539,  0.03489491],\n",
       "       [ 2.33741516, -0.20423422],\n",
       "       [ 0.47910069,  0.30576645],\n",
       "       [-0.47232667,  0.30960132],\n",
       "       [-1.14222926,  0.24843356],\n",
       "       [ 0.71105273, -0.06392983],\n",
       "       [-1.1204297 ,  0.05721786],\n",
       "       [ 0.38624687,  0.1394679 ],\n",
       "       [-0.99795976, -0.18149278],\n",
       "       [-0.00921636, -0.15302949],\n",
       "       [-0.86297242, -0.68458616],\n",
       "       [-0.59461473, -0.09412172],\n",
       "       [-0.61629765, -0.55400684],\n",
       "       [ 1.75440399, -0.02310177],\n",
       "       [ 0.20842105, -0.39825552],\n",
       "       [ 0.59328364,  0.12419155],\n",
       "       [-0.77301931,  0.1489694 ],\n",
       "       [ 1.85242909,  0.24926527],\n",
       "       [-0.03222608, -0.59616936],\n",
       "       [ 1.03401828,  0.53889939],\n",
       "       [ 2.65407282, -0.04679044],\n",
       "       [ 0.06329519,  0.20507382],\n",
       "       [ 1.76472438, -0.76577139],\n",
       "       [ 0.18622461, -0.06865895],\n",
       "       [ 0.43900321,  0.19493289],\n",
       "       [-0.50906396, -0.50351138],\n",
       "       [ 0.19631173,  0.49087307],\n",
       "       [ 0.79209574, -0.30203717],\n",
       "       [ 1.6222438 , -0.48230402],\n",
       "       [ 1.30260923, -0.17283781],\n",
       "       [-0.39657156,  0.61652631],\n",
       "       [ 0.41732028, -0.26495223],\n",
       "       [ 0.93332573, -0.36841227],\n",
       "       [ 0.41638772, -0.29189625],\n",
       "       [ 0.06341182, -0.44602701],\n",
       "       [-0.25079339, -0.47257895],\n",
       "       [ 0.07725602, -0.727155  ],\n",
       "       [-0.33131168, -0.26082658],\n",
       "       [ 0.22592785,  0.08586389],\n",
       "       [ 1.05871855, -0.31957333],\n",
       "       [ 1.56227183, -0.14998348],\n",
       "       [ 1.57247559, -0.24155228],\n",
       "       [ 0.77725638, -0.15121196],\n",
       "       [ 0.63384324,  0.10531139],\n",
       "       [ 0.28777351,  0.66524972],\n",
       "       [-0.84558224,  0.45063407],\n",
       "       [-0.5220518 , -0.39578638],\n",
       "       [ 1.38298872, -0.68829596],\n",
       "       [ 0.21950333,  0.29157927],\n",
       "       [ 1.32932464,  0.08941002],\n",
       "       [ 1.12002852,  0.0944876 ],\n",
       "       [-0.02492303, -0.02048115],\n",
       "       [ 0.98840402, -0.19938976],\n",
       "       [ 2.01923787,  0.10582105],\n",
       "       [ 0.85573032,  0.13088969],\n",
       "       [ 0.18119213,  0.12897834],\n",
       "       [ 0.38492008,  0.15621315],\n",
       "       [ 0.1548736 , -0.27165036],\n",
       "       [ 1.54379203,  0.19040093],\n",
       "       [ 0.5988518 ,  0.09187916],\n",
       "       [-0.87042131,  1.00540102],\n",
       "       [ 0.69886986,  0.53016015],\n",
       "       [-0.56201048, -0.20291417],\n",
       "       [ 0.04698759,  0.16363011],\n",
       "       [-0.29504482,  0.39562837],\n",
       "       [-0.8004092 , -0.5823091 ],\n",
       "       [ 1.56150289,  0.98689327],\n",
       "       [-0.42006558, -0.65170644],\n",
       "       [ 0.71143865, -0.39399057],\n",
       "       [-1.92101038,  0.3975519 ],\n",
       "       [-0.69275645,  0.28461207],\n",
       "       [ 0.42170045,  0.02318641],\n",
       "       [-0.41924965,  0.02633841],\n",
       "       [ 1.16226042,  0.58024929],\n",
       "       [ 0.44227159,  1.00386957],\n",
       "       [-0.67624481,  0.63842871],\n",
       "       [-0.25562182,  0.03743126],\n",
       "       [-2.55666125, -0.12788146],\n",
       "       [-0.01778095, -0.7033053 ],\n",
       "       [ 1.70674538, -0.26753689],\n",
       "       [-0.91046741,  0.23479948],\n",
       "       [ 0.57176432,  0.8281272 ],\n",
       "       [-0.41364106, -0.85742182],\n",
       "       [ 0.48181122, -0.00542836],\n",
       "       [-1.01392187,  0.29845061],\n",
       "       [-1.0077776 , -0.41998472],\n",
       "       [ 0.31639447,  0.12993776],\n",
       "       [-0.06434603,  0.33771597],\n",
       "       [ 0.18736121,  0.27065801],\n",
       "       [-0.56229073, -0.71563412],\n",
       "       [-0.25928443, -0.72781615],\n",
       "       [-2.62632347, -0.49347381],\n",
       "       [ 0.17854949,  0.35414871],\n",
       "       [ 0.29292262, -0.18348839],\n",
       "       [ 0.81131527, -0.16472376],\n",
       "       [-0.85680333, -0.5429065 ],\n",
       "       [-1.06858111,  0.94585382],\n",
       "       [-0.42243061,  0.18087548],\n",
       "       [-0.0172231 ,  0.41682619],\n",
       "       [-0.67612817, -0.01267211],\n",
       "       [-0.61388564,  0.42833284],\n",
       "       [-0.68957549,  0.13007501],\n",
       "       [ 0.69886986,  0.53016015],\n",
       "       [-0.8675206 ,  0.338144  ],\n",
       "       [-1.04916875,  0.63241344],\n",
       "       [-0.38696608,  0.25627385],\n",
       "       [ 0.89668681, -0.02637135],\n",
       "       [-0.26906914,  0.18017838],\n",
       "       [-1.01125442,  0.93339524],\n",
       "       [ 0.02433167,  0.52824881]])"
      ]
     },
     "execution_count": 99,
     "metadata": {},
     "output_type": "execute_result"
    }
   ],
   "source": [
    "transformed_x = np.matmul(eigVec.T[[1,2], :], x_std.T).T\n",
    "transformed_x"
   ]
  },
  {
   "cell_type": "code",
   "execution_count": 100,
   "metadata": {},
   "outputs": [
    {
     "data": {
      "text/plain": [
       "<matplotlib.legend.Legend at 0x17188c1bee0>"
      ]
     },
     "execution_count": 100,
     "metadata": {},
     "output_type": "execute_result"
    },
    {
     "data": {
      "image/png": "[encoded data removed]",
      "text/plain": [
       "<Figure size 640x480 with 1 Axes>"
      ]
     },
     "metadata": {},
     "output_type": "display_data"
    }
   ],
   "source": [
    "plt.plot(transformed_x[df_iris['target'] == 0][:, 0], transformed_x[df_iris['target'] == 0][:, 1], '.', label= 'setosa')\n",
    "plt.plot(transformed_x[df_iris['target'] == 1][:, 0], transformed_x[df_iris['target'] == 1][:, 1], '.', label = 'versicolor')\n",
    "plt.plot(transformed_x[df_iris['target'] == 2][:, 0], transformed_x[df_iris['target'] == 2][:, 1], '.', label = 'virginica')\n",
    "plt.title('Using top 2 PCA capturing (22+3)% variation')\n",
    "plt.xlabel('PCA2')\n",
    "plt.ylabel('PCA3')\n",
    "plt.legend()"
   ]
  },
  {
   "cell_type": "code",
   "execution_count": 101,
   "metadata": {},
   "outputs": [
    {
     "data": {
      "text/plain": [
       "array([[-2.26470281, -0.4800266 , -0.12770602],\n",
       "       [-2.08096115,  0.67413356, -0.23460885],\n",
       "       [-2.36422905,  0.34190802,  0.04420148],\n",
       "       [-2.29938422,  0.59739451,  0.09129011],\n",
       "       [-2.38984217, -0.64683538,  0.0157382 ],\n",
       "       [-2.07563095, -1.48917752,  0.02696829],\n",
       "       [-2.44402884, -0.0476442 ,  0.3354704 ],\n",
       "       [-2.23284716, -0.22314807, -0.0886955 ],\n",
       "       [-2.33464048,  1.11532768,  0.14507686],\n",
       "       [-2.18432817,  0.46901356, -0.25376557],\n",
       "       [-2.1663101 , -1.04369065, -0.2686811 ],\n",
       "       [-2.32613087, -0.13307834,  0.09375924],\n",
       "       [-2.2184509 ,  0.72867617, -0.23091124],\n",
       "       [-2.6331007 ,  0.96150673,  0.18079608],\n",
       "       [-2.1987406 , -1.86005711, -0.472901  ],\n",
       "       [-2.26221453, -2.68628449,  0.03052661],\n",
       "       [-2.2075877 , -1.48360936, -0.00534409],\n",
       "       [-2.19034951, -0.48883832, -0.04421532],\n",
       "       [-1.898572  , -1.40501879, -0.37434327],\n",
       "       [-2.34336905, -1.12784938,  0.13263047],\n",
       "       [-1.914323  , -0.40885571, -0.42129259],\n",
       "       [-2.20701284, -0.92412143,  0.15986528],\n",
       "       [-2.7743447 , -0.45834367,  0.3321791 ],\n",
       "       [-1.81866953, -0.08555853,  0.0344886 ],\n",
       "       [-2.22716331, -0.13725446,  0.11799354],\n",
       "       [-1.95184633,  0.62561859, -0.30564098],\n",
       "       [-2.05115137, -0.24216355,  0.08636401],\n",
       "       [-2.16857717, -0.52714953, -0.20681625],\n",
       "       [-2.13956345, -0.31321781, -0.27115024],\n",
       "       [-2.26526149,  0.3377319 ,  0.06843578],\n",
       "       [-2.14012214,  0.50454069, -0.07500844],\n",
       "       [-1.83159477, -0.42369507, -0.27046738],\n",
       "       [-2.61494794, -1.79357586,  0.04722842],\n",
       "       [-2.44617739, -2.15072788, -0.08266805],\n",
       "       [-2.10997488,  0.46020184, -0.17027486],\n",
       "       [-2.2078089 ,  0.2061074 , -0.22544158],\n",
       "       [-2.04514621, -0.66155811, -0.48453741],\n",
       "       [-2.52733191, -0.59229277,  0.01943581],\n",
       "       [-2.42963258,  0.90418004,  0.19325466],\n",
       "       [-2.16971071, -0.26887896, -0.17588382],\n",
       "       [-2.28647514, -0.44171539,  0.03489491],\n",
       "       [-1.85812246,  2.33741516, -0.20423422],\n",
       "       [-2.5536384 ,  0.47910069,  0.30576645],\n",
       "       [-1.96444768, -0.47232667,  0.30960132],\n",
       "       [-2.13705901, -1.14222926,  0.24843356],\n",
       "       [-2.0697443 ,  0.71105273, -0.06392983],\n",
       "       [-2.38473317, -1.1204297 ,  0.05721786],\n",
       "       [-2.39437631,  0.38624687,  0.1394679 ],\n",
       "       [-2.22944655, -0.99795976, -0.18149278],\n",
       "       [-2.20383344, -0.00921636, -0.15302949],\n",
       "       [ 1.10178118, -0.86297242, -0.68458616],\n",
       "       [ 0.73133743, -0.59461473, -0.09412172],\n",
       "       [ 1.24097932, -0.61629765, -0.55400684],\n",
       "       [ 0.40748306,  1.75440399, -0.02310177],\n",
       "       [ 1.0754747 ,  0.20842105, -0.39825552],\n",
       "       [ 0.38868734,  0.59328364,  0.12419155],\n",
       "       [ 0.74652974, -0.77301931,  0.1489694 ],\n",
       "       [-0.48732274,  1.85242909,  0.24926527],\n",
       "       [ 0.92790164, -0.03222608, -0.59616936],\n",
       "       [ 0.01142619,  1.03401828,  0.53889939],\n",
       "       [-0.11019628,  2.65407282, -0.04679044],\n",
       "       [ 0.44069345,  0.06329519,  0.20507382],\n",
       "       [ 0.56210831,  1.76472438, -0.76577139],\n",
       "       [ 0.71956189,  0.18622461, -0.06865895],\n",
       "       [-0.0333547 ,  0.43900321,  0.19493289],\n",
       "       [ 0.87540719, -0.50906396, -0.50351138],\n",
       "       [ 0.35025167,  0.19631173,  0.49087307],\n",
       "       [ 0.15881005,  0.79209574, -0.30203717],\n",
       "       [ 1.22509363,  1.6222438 , -0.48230402],\n",
       "       [ 0.1649179 ,  1.30260923, -0.17283781],\n",
       "       [ 0.73768265, -0.39657156,  0.61652631],\n",
       "       [ 0.47628719,  0.41732028, -0.26495223],\n",
       "       [ 1.2341781 ,  0.93332573, -0.36841227],\n",
       "       [ 0.6328582 ,  0.41638772, -0.29189625],\n",
       "       [ 0.70266118,  0.06341182, -0.44602701],\n",
       "       [ 0.87427365, -0.25079339, -0.47257895],\n",
       "       [ 1.25650912,  0.07725602, -0.727155  ],\n",
       "       [ 1.35840512, -0.33131168, -0.26082658],\n",
       "       [ 0.66480037,  0.22592785,  0.08586389],\n",
       "       [-0.04025861,  1.05871855, -0.31957333],\n",
       "       [ 0.13079518,  1.56227183, -0.14998348],\n",
       "       [ 0.02345269,  1.57247559, -0.24155228],\n",
       "       [ 0.24153827,  0.77725638, -0.15121196],\n",
       "       [ 1.06109461,  0.63384324,  0.10531139],\n",
       "       [ 0.22397877,  0.28777351,  0.66524972],\n",
       "       [ 0.42913912, -0.84558224,  0.45063407],\n",
       "       [ 1.04872805, -0.5220518 , -0.39578638],\n",
       "       [ 1.04453138,  1.38298872, -0.68829596],\n",
       "       [ 0.06958832,  0.21950333,  0.29157927],\n",
       "       [ 0.28347724,  1.32932464,  0.08941002],\n",
       "       [ 0.27907778,  1.12002852,  0.0944876 ],\n",
       "       [ 0.62456979, -0.02492303, -0.02048115],\n",
       "       [ 0.33653037,  0.98840402, -0.19938976],\n",
       "       [-0.36218338,  2.01923787,  0.10582105],\n",
       "       [ 0.28858624,  0.85573032,  0.13088969],\n",
       "       [ 0.09136066,  0.18119213,  0.12897834],\n",
       "       [ 0.22771687,  0.38492008,  0.15621315],\n",
       "       [ 0.57638829,  0.1548736 , -0.27165036],\n",
       "       [-0.44766702,  1.54379203,  0.19040093],\n",
       "       [ 0.25673059,  0.5988518 ,  0.09187916],\n",
       "       [ 1.84456887, -0.87042131,  1.00540102],\n",
       "       [ 1.15788161,  0.69886986,  0.53016015],\n",
       "       [ 2.20526679, -0.56201048, -0.20291417],\n",
       "       [ 1.44015066,  0.04698759,  0.16363011],\n",
       "       [ 1.86781222, -0.29504482,  0.39562837],\n",
       "       [ 2.75187334, -0.8004092 , -0.5823091 ],\n",
       "       [ 0.36701769,  1.56150289,  0.98689327],\n",
       "       [ 2.30243944, -0.42006558, -0.65170644],\n",
       "       [ 2.00668647,  0.71143865, -0.39399057],\n",
       "       [ 2.25977735, -1.92101038,  0.3975519 ],\n",
       "       [ 1.36417549, -0.69275645,  0.28461207],\n",
       "       [ 1.60267867,  0.42170045,  0.02318641],\n",
       "       [ 1.8839007 , -0.41924965,  0.02633841],\n",
       "       [ 1.2601151 ,  1.16226042,  0.58024929],\n",
       "       [ 1.4676452 ,  0.44227159,  1.00386957],\n",
       "       [ 1.59007732, -0.67624481,  0.63842871],\n",
       "       [ 1.47143146, -0.25562182,  0.03743126],\n",
       "       [ 2.42632899, -2.55666125, -0.12788146],\n",
       "       [ 3.31069558, -0.01778095, -0.7033053 ],\n",
       "       [ 1.26376667,  1.70674538, -0.26753689],\n",
       "       [ 2.0377163 , -0.91046741,  0.23479948],\n",
       "       [ 0.97798073,  0.57176432,  0.8281272 ],\n",
       "       [ 2.89765149, -0.41364106, -0.85742182],\n",
       "       [ 1.33323218,  0.48181122, -0.00542836],\n",
       "       [ 1.7007339 , -1.01392187,  0.29845061],\n",
       "       [ 1.95432671, -1.0077776 , -0.41998472],\n",
       "       [ 1.17510363,  0.31639447,  0.12993776],\n",
       "       [ 1.02095055, -0.06434603,  0.33771597],\n",
       "       [ 1.78834992,  0.18736121,  0.27065801],\n",
       "       [ 1.86364755, -0.56229073, -0.71563412],\n",
       "       [ 2.43595373, -0.25928443, -0.72781615],\n",
       "       [ 2.30492772, -2.62632347, -0.49347381],\n",
       "       [ 1.86270322,  0.17854949,  0.35414871],\n",
       "       [ 1.11414774,  0.29292262, -0.18348839],\n",
       "       [ 1.2024733 ,  0.81131527, -0.16472376],\n",
       "       [ 2.79877045, -0.85680333, -0.5429065 ],\n",
       "       [ 1.57625591, -1.06858111,  0.94585382],\n",
       "       [ 1.3462921 , -0.42243061,  0.18087548],\n",
       "       [ 0.92482492, -0.0172231 ,  0.41682619],\n",
       "       [ 1.85204505, -0.67612817, -0.01267211],\n",
       "       [ 2.01481043, -0.61388564,  0.42833284],\n",
       "       [ 1.90178409, -0.68957549,  0.13007501],\n",
       "       [ 1.15788161,  0.69886986,  0.53016015],\n",
       "       [ 2.04055823, -0.8675206 ,  0.338144  ],\n",
       "       [ 1.9981471 , -1.04916875,  0.63241344],\n",
       "       [ 1.87050329, -0.38696608,  0.25627385],\n",
       "       [ 1.56458048,  0.89668681, -0.02637135],\n",
       "       [ 1.5211705 , -0.26906914,  0.18017838],\n",
       "       [ 1.37278779, -1.01125442,  0.93339524],\n",
       "       [ 0.96065603,  0.02433167,  0.52824881]])"
      ]
     },
     "execution_count": 101,
     "metadata": {},
     "output_type": "execute_result"
    }
   ],
   "source": [
    "transformed_x = np.matmul(eigVec.T[:3, :], x_std.T).T\n",
    "transformed_x"
   ]
  },
  {
   "cell_type": "code",
   "execution_count": 102,
   "metadata": {},
   "outputs": [],
   "source": [
    "import plotly.graph_objects as go\n",
    "import plotly.offline as pyo"
   ]
  },
  {
   "cell_type": "code",
   "execution_count": 108,
   "metadata": {},
   "outputs": [],
   "source": [
    "trace1 = go.Scatter3d(\n",
    "    x = transformed_x[df_iris['target'] == 0][:, 0],\n",
    "    y = transformed_x[df_iris['target'] == 0][:, 1],\n",
    "    z= transformed_x[df_iris['target'] == 0][:, 2],\n",
    "    mode = \"markers\",\n",
    "    marker = dict(\n",
    "        size=3,\n",
    "        symbol=\"circle\",\n",
    "        color=\"blue\"\n",
    "    ),\n",
    "    name=\"Setosa\"\n",
    "\n",
    ")\n",
    "\n",
    "\n",
    "trace2 =go.Scatter3d(\n",
    "    x = transformed_x[df_iris['target'] == 1][:, 0],\n",
    "    y = transformed_x[df_iris['target'] == 1][:, 1],\n",
    "    z= transformed_x[df_iris['target'] == 1][:, 2],\n",
    "    mode = \"markers\",\n",
    "    marker = dict(\n",
    "        size=3,\n",
    "        symbol=\"circle\",\n",
    "        color =\"orange\"\n",
    "    ),\n",
    "    name =\"Versicolor\"\n",
    ")\n",
    "\n",
    "trace3 =go.Scatter3d(\n",
    "    x = transformed_x[df_iris['target'] == 2][:, 0],\n",
    "    y = transformed_x[df_iris['target'] == 2][:, 1],\n",
    "    z= transformed_x[df_iris['target'] == 2][:, 2],\n",
    "    mode = \"markers\",\n",
    "    marker = dict(\n",
    "        size=3,\n",
    "        symbol=\"circle\",\n",
    "        color =\"green\"\n",
    "    ),\n",
    "    name =\"Virginica\"\n",
    ")\n",
    "\n",
    "\n",
    "fig = go.Figure(data=[trace1, trace2, trace3])"
   ]
  },
  {
   "cell_type": "code",
   "execution_count": 109,
   "metadata": {},
   "outputs": [
    {
     "data": {
      "application/vnd.plotly.v1+json": {
       "config": {
        "plotlyServerURL": "https://plot.ly"
       },
       "data": [
        {
         "marker": {
          "color": "blue",
          "size": 3,
          "symbol": "circle"
         },
         "mode": "markers",
         "name": "Setosa",
         "type": "scatter3d",
         "x": [
          -2.26470280880759,
          -2.0809611519657687,
          -2.364229053890302,
          -2.299384217042709,
          -2.3898421663138465,
          -2.0756309481765145,
          -2.4440288351341537,
          -2.2328471588720165,
          -2.334640477907622,
          -2.1843281749339427,
          -2.1663101007013243,
          -2.3261308664427,
          -2.21845089882241,
          -2.633100695765229,
          -2.1987406032666925,
          -2.262214531601024,
          -2.2075876958245946,
          -2.1903495091923,
          -1.8985719958028442,
          -2.3433690530749947,
          -1.9143229960825696,
          -2.2070128431948004,
          -2.7743447029273334,
          -1.8186695286958505,
          -2.22716330570664,
          -1.951846330900377,
          -2.051151372729417,
          -2.168577174654218,
          -2.139563451301333,
          -2.265261493154242,
          -2.1401221356479856,
          -1.83159477067603,
          -2.614947935858937,
          -2.446177391696517,
          -2.1099748753186534,
          -2.207808899078267,
          -2.045146206754203,
          -2.527331913170488,
          -2.4296325750845473,
          -2.169710711630665,
          -2.2864751433456716,
          -1.8581224563735717,
          -2.553638395614357,
          -1.9644476837637423,
          -2.137059005811625,
          -2.069744299591831,
          -2.3847331657782647,
          -2.394376314219634,
          -2.2294465479426764,
          -2.203833435519132
         ],
         "y": [
          -0.4800265965209868,
          0.674133556605355,
          0.34190802388467834,
          0.5973945076746776,
          -0.6468353829020245,
          -1.4891775233211642,
          -0.04764419763001197,
          -0.2231480726895894,
          1.115327675461668,
          0.46901356140237793,
          -1.0436906530538572,
          -0.13307833523922932,
          0.7286761653165729,
          0.961506729170165,
          -1.8600571132939283,
          -2.6862844851105887,
          -1.4836093631555698,
          -0.4888383164863252,
          -1.4050187944665466,
          -1.1278493819084736,
          -0.40885570775590374,
          -0.9241214267468959,
          -0.45834366775291313,
          -0.08555852628736374,
          -0.13725445536342495,
          0.6256185877766788,
          -0.24216355266166473,
          -0.527149525308265,
          -0.3132178101399494,
          0.3377319037604827,
          0.5045406901415205,
          -0.42369506760378345,
          -1.7935758561044257,
          -2.1507278773929213,
          0.46020184143703957,
          0.20610739768843916,
          -0.6615581114631055,
          -0.592292774190807,
          0.90418004037615,
          -0.2688789614354684,
          -0.44171538769904767,
          2.3374151575533495,
          0.47910069012231604,
          -0.47232666771925846,
          -1.1422292620394061,
          0.7110527253858961,
          -1.1204297019845337,
          0.38624687258915935,
          -0.9979597643079776,
          -0.009216357521273894
         ],
         "z": [
          -0.12770602230015304,
          -0.23460885398456832,
          0.04420148483874342,
          0.09129010632068169,
          0.015738195676258004,
          0.026968294439780993,
          0.33547040114311333,
          -0.08869549794772713,
          0.1450768636369998,
          -0.2537655673000071,
          -0.2686811022161356,
          0.09375924438111127,
          -0.23091123720660311,
          0.18079608440317874,
          -0.472900997873078,
          0.03052660926550954,
          -0.0053440940782650825,
          -0.04421531647845445,
          -0.3743432745576556,
          0.13263046678130153,
          -0.4212925940873573,
          0.1598652772262521,
          0.33217909755686514,
          0.03448859579998065,
          0.11799353576964566,
          -0.3056409823252083,
          0.08636401082518164,
          -0.20681624777030538,
          -0.2711502402765652,
          0.06843577622727803,
          -0.07500844174913335,
          -0.27046737670298315,
          0.04722841866848504,
          -0.082668045061569,
          -0.17027486147830861,
          -0.2254415800897579,
          -0.484537409828318,
          0.019435812454222545,
          0.19325466188423646,
          -0.17588382054738994,
          0.03489490899169678,
          -0.20423422253096546,
          0.30576645263773294,
          0.3096013178453271,
          0.2484335611210461,
          -0.06392982556320603,
          0.057217858089114504,
          0.13946790456791847,
          -0.1814927796164718,
          -0.15302949045398684
         ]
        },
        {
         "marker": {
          "color": "orange",
          "size": 3,
          "symbol": "circle"
         },
         "mode": "markers",
         "name": "Versicolor",
         "type": "scatter3d",
         "x": [
          1.1017811830529454,
          0.7313374253960852,
          1.2409793195158287,
          0.407483058817384,
          1.0754747006090764,
          0.38868733653566334,
          0.7465297413291583,
          -0.48732274212564053,
          0.9279016383549434,
          0.011426188736978815,
          -0.11019628000062948,
          0.4406934489830764,
          0.562108306443178,
          0.7195618886754946,
          -0.0333547031787739,
          0.8754071908577354,
          0.3502516679950809,
          0.15881004754796982,
          1.2250936335624303,
          0.1649178993863261,
          0.7376826487712559,
          0.4762871909409697,
          1.2341780976571475,
          0.6328581997098202,
          0.7026611831361804,
          0.8742736538812883,
          1.2565091165418816,
          1.3584051214406296,
          0.6648003672253929,
          -0.040258610900596736,
          0.13079517549785957,
          0.023452688970549807,
          0.24153827295450941,
          1.0610946088426123,
          0.22397877351237785,
          0.42913911551615824,
          1.048728051209085,
          1.0445313843962778,
          0.06958832111642112,
          0.28347723828757415,
          0.2790777760554596,
          0.6245697914985695,
          0.3365303701314344,
          -0.3621833846193841,
          0.28858623882315587,
          0.09136065565450356,
          0.22771686553469836,
          0.5763882886534768,
          -0.4476670190286127,
          0.25673058888758304
         ],
         "y": [
          -0.862972418262156,
          -0.594614725669422,
          -0.6162976544374957,
          1.7544039893234122,
          0.20842104605096803,
          0.5932836359900775,
          -0.7730193120985939,
          1.852429086857576,
          -0.03222607789115128,
          1.0340182751294424,
          2.654072818536566,
          0.06329518843800387,
          1.764724380616947,
          0.18622460583150816,
          0.43900320998162695,
          -0.5090639567734059,
          0.19631173455144638,
          0.7920957424327234,
          1.6222438030915036,
          1.3026092302957746,
          -0.39657156196023635,
          0.41732028121355336,
          0.9333257287992804,
          0.41638772088910186,
          0.06341181972480257,
          -0.2507933929006094,
          0.07725601969587162,
          -0.3313116817908955,
          0.225927854694846,
          1.0587185465539108,
          1.5622718342099693,
          1.5724755942167061,
          0.7772563825848439,
          0.6338432447349491,
          0.2877735120432046,
          -0.8455822409050759,
          -0.5220517968629399,
          1.3829887191907841,
          0.21950333464771735,
          1.3293246390695783,
          1.1200285237424057,
          -0.024923029254010163,
          0.9884040176703621,
          2.019237873238614,
          0.8557303199870685,
          0.18119212582577762,
          0.3849200809873562,
          0.15487359721656122,
          1.5437920343977578,
          0.5988517961556716
         ],
         "z": [
          -0.6845861626897376,
          -0.09412171552908266,
          -0.5540068353861012,
          -0.023101767813801674,
          -0.3982555225062272,
          0.12419154951817016,
          0.14896940252805074,
          0.24926526578924946,
          -0.596169361372539,
          0.5388993901843678,
          -0.04679044405838324,
          0.20507381532720265,
          -0.7657713936539619,
          -0.06865894542301268,
          0.19493289332897867,
          -0.5035113816560308,
          0.4908730745147275,
          -0.3020371744413826,
          -0.48230402409723816,
          -0.17283780843287672,
          0.6165263063228639,
          -0.26495222652803996,
          -0.3684122720486104,
          -0.2918962524431581,
          -0.4460270075617477,
          -0.47257895443311526,
          -0.7271550018678924,
          -0.2608265767906142,
          0.08586388873932593,
          -0.3195733299955369,
          -0.14998347833947356,
          -0.24155228129068373,
          -0.15121195705700846,
          0.1053113865845973,
          0.6652497197140534,
          0.45063407144476564,
          -0.3957863844457976,
          -0.6882959600930615,
          0.2915792743532844,
          0.08941002293969486,
          0.09448760101279048,
          -0.02048114717577601,
          -0.1993897553042452,
          0.10582104781283819,
          0.1308896853525514,
          0.12897834306143352,
          0.15621315350638393,
          -0.27165036236242085,
          0.1904009303998361,
          0.09187916100012412
         ]
        },
        {
         "marker": {
          "color": "green",
          "size": 3,
          "symbol": "circle"
         },
         "mode": "markers",
         "name": "Virginica",
         "type": "scatter3d",
         "x": [
          1.8445688677230265,
          1.1578816132057779,
          2.205266791075376,
          1.4401506638275374,
          1.8678122203305354,
          2.7518733356662746,
          0.36701768786072325,
          2.3024394446251946,
          2.006686467676604,
          2.2597773490124973,
          1.3641754921860056,
          1.6026786704779288,
          1.8839007017032405,
          1.2601150991975063,
          1.4676452010173222,
          1.5900773176145633,
          1.471431461133316,
          2.4263289873156975,
          3.3106955839338856,
          1.263766673639827,
          2.037716301469402,
          0.9779807342494199,
          2.8976514907341664,
          1.3332321759732069,
          1.7007338974912145,
          1.9543267058530684,
          1.1751036315549306,
          1.020950550695789,
          1.7883499201796638,
          1.8636475533282586,
          2.4359537279227017,
          2.3049277218317616,
          1.8627032197949536,
          1.1141477406864728,
          1.2024733016783893,
          2.7987704475781054,
          1.5762559101947515,
          1.3462921036270596,
          0.9248249165424173,
          1.8520450517676679,
          2.0148104299548732,
          1.9017840902621868,
          1.1578816132057779,
          2.04055822805209,
          1.9981470959523735,
          1.8705032929564083,
          1.5645804830303267,
          1.5211704996278357,
          1.3727877895140703,
          0.9606560300371257
         ],
         "y": [
          -0.8704213123248205,
          0.6988698623306926,
          -0.5620104770083527,
          0.046987588105809046,
          -0.2950448244570171,
          -0.8004092010275391,
          1.5615028914765077,
          -0.4200655796427736,
          0.7114386535471612,
          -1.9210103764598834,
          -0.6927564544903841,
          0.4217004497726196,
          -0.41924965060512076,
          1.1622604214064656,
          0.44227158737708483,
          -0.6762448057233174,
          -0.2556218244714679,
          -2.556661250795489,
          -0.01778094932062431,
          1.7067453803762698,
          -0.910467409618308,
          0.571764324812994,
          -0.4136410595956448,
          0.48181121864943166,
          -1.0139218673227886,
          -1.0077775961534494,
          0.31639447230979356,
          -0.06434602923955934,
          0.18736121459083135,
          -0.5622907258861418,
          -0.25928443314427735,
          -2.6263234682323753,
          0.17854949462549297,
          0.2929226233357339,
          0.8113152708396709,
          -0.8568033294971024,
          -1.068581107320805,
          -0.4224306108525057,
          -0.017223100452281676,
          -0.6761281744365187,
          -0.6138856369235722,
          -0.6895754942429998,
          0.6988698623306926,
          -0.8675206009552254,
          -1.0491687471841422,
          -0.3869660816657228,
          0.8966868088965285,
          -0.26906914427794903,
          -1.0112544185267902,
          0.024331668169401778
         ],
         "z": [
          1.0054010176069874,
          0.5301601492490196,
          -0.20291416973686882,
          0.16363010683005857,
          0.3956283745532976,
          -0.5823091028286049,
          0.9868932674720259,
          -0.6517064392599937,
          -0.39399057081656463,
          0.3975518974697738,
          0.2846120737568163,
          0.023186407910062656,
          0.026338409544074848,
          0.5802492897873732,
          1.0038695737342604,
          0.6384287080805979,
          0.03743125987796858,
          -0.1278814594630726,
          -0.7033053039033295,
          -0.2675368932503539,
          0.23479948360032754,
          0.8281272013877701,
          -0.8574218248739519,
          -0.005428363830018101,
          0.2984506125330052,
          -0.41998472191862035,
          0.12993775701688126,
          0.337715967499553,
          0.2706580063187423,
          -0.715634118574537,
          -0.7278161456737301,
          -0.49347380769433113,
          0.354148712140441,
          -0.18348839165934294,
          -0.16472375738765374,
          -0.5429064994324289,
          0.9458538186439911,
          0.18087547785437985,
          0.41682619296970447,
          -0.012672114808352175,
          0.42833284211509315,
          0.1300750054465103,
          0.5301601492490196,
          0.3381440004590144,
          0.6324134358197994,
          0.2562738523986001,
          -0.02637135163230464,
          0.18017838013283133,
          0.9333952411629324,
          0.5282488069579019
         ]
        }
       ],
       "layout": {
        "template": {
         "data": {
          "bar": [
           {
            "error_x": {
             "color": "#2a3f5f"
            },
            "error_y": {
             "color": "#2a3f5f"
            },
            "marker": {
             "line": {
              "color": "#E5ECF6",
              "width": 0.5
             },
             "pattern": {
              "fillmode": "overlay",
              "size": 10,
              "solidity": 0.2
             }
            },
            "type": "bar"
           }
          ],
          "barpolar": [
           {
            "marker": {
             "line": {
              "color": "#E5ECF6",
              "width": 0.5
             },
             "pattern": {
              "fillmode": "overlay",
              "size": 10,
              "solidity": 0.2
             }
            },
            "type": "barpolar"
           }
          ],
          "carpet": [
           {
            "aaxis": {
             "endlinecolor": "#2a3f5f",
             "gridcolor": "white",
             "linecolor": "white",
             "minorgridcolor": "white",
             "startlinecolor": "#2a3f5f"
            },
            "baxis": {
             "endlinecolor": "#2a3f5f",
             "gridcolor": "white",
             "linecolor": "white",
             "minorgridcolor": "white",
             "startlinecolor": "#2a3f5f"
            },
            "type": "carpet"
           }
          ],
          "choropleth": [
           {
            "colorbar": {
             "outlinewidth": 0,
             "ticks": ""
            },
            "type": "choropleth"
           }
          ],
          "contour": [
           {
            "colorbar": {
             "outlinewidth": 0,
             "ticks": ""
            },
            "colorscale": [
             [
              0,
              "#0d0887"
             ],
             [
              0.1111111111111111,
              "#46039f"
             ],
             [
              0.2222222222222222,
              "#7201a8"
             ],
             [
              0.3333333333333333,
              "#9c179e"
             ],
             [
              0.4444444444444444,
              "#bd3786"
             ],
             [
              0.5555555555555556,
              "#d8576b"
             ],
             [
              0.6666666666666666,
              "#ed7953"
             ],
             [
              0.7777777777777778,
              "#fb9f3a"
             ],
             [
              0.8888888888888888,
              "#fdca26"
             ],
             [
              1,
              "#f0f921"
             ]
            ],
            "type": "contour"
           }
          ],
          "contourcarpet": [
           {
            "colorbar": {
             "outlinewidth": 0,
             "ticks": ""
            },
            "type": "contourcarpet"
           }
          ],
          "heatmap": [
           {
            "colorbar": {
             "outlinewidth": 0,
             "ticks": ""
            },
            "colorscale": [
             [
              0,
              "#0d0887"
             ],
             [
              0.1111111111111111,
              "#46039f"
             ],
             [
              0.2222222222222222,
              "#7201a8"
             ],
             [
              0.3333333333333333,
              "#9c179e"
             ],
             [
              0.4444444444444444,
              "#bd3786"
             ],
             [
              0.5555555555555556,
              "#d8576b"
             ],
             [
              0.6666666666666666,
              "#ed7953"
             ],
             [
              0.7777777777777778,
              "#fb9f3a"
             ],
             [
              0.8888888888888888,
              "#fdca26"
             ],
             [
              1,
              "#f0f921"
             ]
            ],
            "type": "heatmap"
           }
          ],
          "heatmapgl": [
           {
            "colorbar": {
             "outlinewidth": 0,
             "ticks": ""
            },
            "colorscale": [
             [
              0,
              "#0d0887"
             ],
             [
              0.1111111111111111,
              "#46039f"
             ],
             [
              0.2222222222222222,
              "#7201a8"
             ],
             [
              0.3333333333333333,
              "#9c179e"
             ],
             [
              0.4444444444444444,
              "#bd3786"
             ],
             [
              0.5555555555555556,
              "#d8576b"
             ],
             [
              0.6666666666666666,
              "#ed7953"
             ],
             [
              0.7777777777777778,
              "#fb9f3a"
             ],
             [
              0.8888888888888888,
              "#fdca26"
             ],
             [
              1,
              "#f0f921"
             ]
            ],
            "type": "heatmapgl"
           }
          ],
          "histogram": [
           {
            "marker": {
             "pattern": {
              "fillmode": "overlay",
              "size": 10,
              "solidity": 0.2
             }
            },
            "type": "histogram"
           }
          ],
          "histogram2d": [
           {
            "colorbar": {
             "outlinewidth": 0,
             "ticks": ""
            },
            "colorscale": [
             [
              0,
              "#0d0887"
             ],
             [
              0.1111111111111111,
              "#46039f"
             ],
             [
              0.2222222222222222,
              "#7201a8"
             ],
             [
              0.3333333333333333,
              "#9c179e"
             ],
             [
              0.4444444444444444,
              "#bd3786"
             ],
             [
              0.5555555555555556,
              "#d8576b"
             ],
             [
              0.6666666666666666,
              "#ed7953"
             ],
             [
              0.7777777777777778,
              "#fb9f3a"
             ],
             [
              0.8888888888888888,
              "#fdca26"
             ],
             [
              1,
              "#f0f921"
             ]
            ],
            "type": "histogram2d"
           }
          ],
          "histogram2dcontour": [
           {
            "colorbar": {
             "outlinewidth": 0,
             "ticks": ""
            },
            "colorscale": [
             [
              0,
              "#0d0887"
             ],
             [
              0.1111111111111111,
              "#46039f"
             ],
             [
              0.2222222222222222,
              "#7201a8"
             ],
             [
              0.3333333333333333,
              "#9c179e"
             ],
             [
              0.4444444444444444,
              "#bd3786"
             ],
             [
              0.5555555555555556,
              "#d8576b"
             ],
             [
              0.6666666666666666,
              "#ed7953"
             ],
             [
              0.7777777777777778,
              "#fb9f3a"
             ],
             [
              0.8888888888888888,
              "#fdca26"
             ],
             [
              1,
              "#f0f921"
             ]
            ],
            "type": "histogram2dcontour"
           }
          ],
          "mesh3d": [
           {
            "colorbar": {
             "outlinewidth": 0,
             "ticks": ""
            },
            "type": "mesh3d"
           }
          ],
          "parcoords": [
           {
            "line": {
             "colorbar": {
              "outlinewidth": 0,
              "ticks": ""
             }
            },
            "type": "parcoords"
           }
          ],
          "pie": [
           {
            "automargin": true,
            "type": "pie"
           }
          ],
          "scatter": [
           {
            "fillpattern": {
             "fillmode": "overlay",
             "size": 10,
             "solidity": 0.2
            },
            "type": "scatter"
           }
          ],
          "scatter3d": [
           {
            "line": {
             "colorbar": {
              "outlinewidth": 0,
              "ticks": ""
             }
            },
            "marker": {
             "colorbar": {
              "outlinewidth": 0,
              "ticks": ""
             }
            },
            "type": "scatter3d"
           }
          ],
          "scattercarpet": [
           {
            "marker": {
             "colorbar": {
              "outlinewidth": 0,
              "ticks": ""
             }
            },
            "type": "scattercarpet"
           }
          ],
          "scattergeo": [
           {
            "marker": {
             "colorbar": {
              "outlinewidth": 0,
              "ticks": ""
             }
            },
            "type": "scattergeo"
           }
          ],
          "scattergl": [
           {
            "marker": {
             "colorbar": {
              "outlinewidth": 0,
              "ticks": ""
             }
            },
            "type": "scattergl"
           }
          ],
          "scattermapbox": [
           {
            "marker": {
             "colorbar": {
              "outlinewidth": 0,
              "ticks": ""
             }
            },
            "type": "scattermapbox"
           }
          ],
          "scatterpolar": [
           {
            "marker": {
             "colorbar": {
              "outlinewidth": 0,
              "ticks": ""
             }
            },
            "type": "scatterpolar"
           }
          ],
          "scatterpolargl": [
           {
            "marker": {
             "colorbar": {
              "outlinewidth": 0,
              "ticks": ""
             }
            },
            "type": "scatterpolargl"
           }
          ],
          "scatterternary": [
           {
            "marker": {
             "colorbar": {
              "outlinewidth": 0,
              "ticks": ""
             }
            },
            "type": "scatterternary"
           }
          ],
          "surface": [
           {
            "colorbar": {
             "outlinewidth": 0,
             "ticks": ""
            },
            "colorscale": [
             [
              0,
              "#0d0887"
             ],
             [
              0.1111111111111111,
              "#46039f"
             ],
             [
              0.2222222222222222,
              "#7201a8"
             ],
             [
              0.3333333333333333,
              "#9c179e"
             ],
             [
              0.4444444444444444,
              "#bd3786"
             ],
             [
              0.5555555555555556,
              "#d8576b"
             ],
             [
              0.6666666666666666,
              "#ed7953"
             ],
             [
              0.7777777777777778,
              "#fb9f3a"
             ],
             [
              0.8888888888888888,
              "#fdca26"
             ],
             [
              1,
              "#f0f921"
             ]
            ],
            "type": "surface"
           }
          ],
          "table": [
           {
            "cells": {
             "fill": {
              "color": "#EBF0F8"
             },
             "line": {
              "color": "white"
             }
            },
            "header": {
             "fill": {
              "color": "#C8D4E3"
             },
             "line": {
              "color": "white"
             }
            },
            "type": "table"
           }
          ]
         },
         "layout": {
          "annotationdefaults": {
           "arrowcolor": "#2a3f5f",
           "arrowhead": 0,
           "arrowwidth": 1
          },
          "autotypenumbers": "strict",
          "coloraxis": {
           "colorbar": {
            "outlinewidth": 0,
            "ticks": ""
           }
          },
          "colorscale": {
           "diverging": [
            [
             0,
             "#8e0152"
            ],
            [
             0.1,
             "#c51b7d"
            ],
            [
             0.2,
             "#de77ae"
            ],
            [
             0.3,
             "#f1b6da"
            ],
            [
             0.4,
             "#fde0ef"
            ],
            [
             0.5,
             "#f7f7f7"
            ],
            [
             0.6,
             "#e6f5d0"
            ],
            [
             0.7,
             "#b8e186"
            ],
            [
             0.8,
             "#7fbc41"
            ],
            [
             0.9,
             "#4d9221"
            ],
            [
             1,
             "#276419"
            ]
           ],
           "sequential": [
            [
             0,
             "#0d0887"
            ],
            [
             0.1111111111111111,
             "#46039f"
            ],
            [
             0.2222222222222222,
             "#7201a8"
            ],
            [
             0.3333333333333333,
             "#9c179e"
            ],
            [
             0.4444444444444444,
             "#bd3786"
            ],
            [
             0.5555555555555556,
             "#d8576b"
            ],
            [
             0.6666666666666666,
             "#ed7953"
            ],
            [
             0.7777777777777778,
             "#fb9f3a"
            ],
            [
             0.8888888888888888,
             "#fdca26"
            ],
            [
             1,
             "#f0f921"
            ]
           ],
           "sequentialminus": [
            [
             0,
             "#0d0887"
            ],
            [
             0.1111111111111111,
             "#46039f"
            ],
            [
             0.2222222222222222,
             "#7201a8"
            ],
            [
             0.3333333333333333,
             "#9c179e"
            ],
            [
             0.4444444444444444,
             "#bd3786"
            ],
            [
             0.5555555555555556,
             "#d8576b"
            ],
            [
             0.6666666666666666,
             "#ed7953"
            ],
            [
             0.7777777777777778,
             "#fb9f3a"
            ],
            [
             0.8888888888888888,
             "#fdca26"
            ],
            [
             1,
             "#f0f921"
            ]
           ]
          },
          "colorway": [
           "#636efa",
           "#EF553B",
           "#00cc96",
           "#ab63fa",
           "#FFA15A",
           "#19d3f3",
           "#FF6692",
           "#B6E880",
           "#FF97FF",
           "#FECB52"
          ],
          "font": {
           "color": "#2a3f5f"
          },
          "geo": {
           "bgcolor": "white",
           "lakecolor": "white",
           "landcolor": "#E5ECF6",
           "showlakes": true,
           "showland": true,
           "subunitcolor": "white"
          },
          "hoverlabel": {
           "align": "left"
          },
          "hovermode": "closest",
          "mapbox": {
           "style": "light"
          },
          "paper_bgcolor": "white",
          "plot_bgcolor": "#E5ECF6",
          "polar": {
           "angularaxis": {
            "gridcolor": "white",
            "linecolor": "white",
            "ticks": ""
           },
           "bgcolor": "#E5ECF6",
           "radialaxis": {
            "gridcolor": "white",
            "linecolor": "white",
            "ticks": ""
           }
          },
          "scene": {
           "xaxis": {
            "backgroundcolor": "#E5ECF6",
            "gridcolor": "white",
            "gridwidth": 2,
            "linecolor": "white",
            "showbackground": true,
            "ticks": "",
            "zerolinecolor": "white"
           },
           "yaxis": {
            "backgroundcolor": "#E5ECF6",
            "gridcolor": "white",
            "gridwidth": 2,
            "linecolor": "white",
            "showbackground": true,
            "ticks": "",
            "zerolinecolor": "white"
           },
           "zaxis": {
            "backgroundcolor": "#E5ECF6",
            "gridcolor": "white",
            "gridwidth": 2,
            "linecolor": "white",
            "showbackground": true,
            "ticks": "",
            "zerolinecolor": "white"
           }
          },
          "shapedefaults": {
           "line": {
            "color": "#2a3f5f"
           }
          },
          "ternary": {
           "aaxis": {
            "gridcolor": "white",
            "linecolor": "white",
            "ticks": ""
           },
           "baxis": {
            "gridcolor": "white",
            "linecolor": "white",
            "ticks": ""
           },
           "bgcolor": "#E5ECF6",
           "caxis": {
            "gridcolor": "white",
            "linecolor": "white",
            "ticks": ""
           }
          },
          "title": {
           "x": 0.05
          },
          "xaxis": {
           "automargin": true,
           "gridcolor": "white",
           "linecolor": "white",
           "ticks": "",
           "title": {
            "standoff": 15
           },
           "zerolinecolor": "white",
           "zerolinewidth": 2
          },
          "yaxis": {
           "automargin": true,
           "gridcolor": "white",
           "linecolor": "white",
           "ticks": "",
           "title": {
            "standoff": 15
           },
           "zerolinecolor": "white",
           "zerolinewidth": 2
          }
         }
        }
       }
      }
     },
     "metadata": {},
     "output_type": "display_data"
    }
   ],
   "source": [
    "fig.show()"
   ]
  },
  {
   "cell_type": "code",
   "execution_count": null,
   "metadata": {},
   "outputs": [],
   "source": []
  }
 ],
 "metadata": {
  "kernelspec": {
   "display_name": "Python 3",
   "language": "python",
   "name": "python3"
  },
  "language_info": {
   "codemirror_mode": {
    "name": "ipython",
    "version": 3
   },
   "file_extension": ".py",
   "mimetype": "text/x-python",
   "name": "python",
   "nbconvert_exporter": "python",
   "pygments_lexer": "ipython3",
   "version": "3.10.11"
  },
  "orig_nbformat": 4
 },
 "nbformat": 4,
 "nbformat_minor": 2
}
